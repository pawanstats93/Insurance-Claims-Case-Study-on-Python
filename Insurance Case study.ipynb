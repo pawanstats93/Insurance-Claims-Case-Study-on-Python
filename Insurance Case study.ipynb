{
 "cells": [
  {
   "cell_type": "code",
   "execution_count": 532,
   "id": "54c2a6dc",
   "metadata": {},
   "outputs": [],
   "source": [
    "import pandas as pd \n",
    "import numpy as np \n",
    "import datetime \n",
    "import matplotlib.pyplot as plt\n",
    "import seaborn as sns\n",
    "\n",
    "%matplotlib inline\n",
    "\n",
    "import scipy.stats as stats"
   ]
  },
  {
   "cell_type": "code",
   "execution_count": 533,
   "id": "fadf6278",
   "metadata": {},
   "outputs": [],
   "source": [
    "#Q1. Import claims_data.csv and cust_data.csv which is provided to you and combine the two datasets appropriate to create a 360 degree view of the data.\n",
    "# Use the same for the subsequent questions."
   ]
  },
  {
   "cell_type": "code",
   "execution_count": 534,
   "id": "6d5825b4",
   "metadata": {},
   "outputs": [
    {
     "data": {
      "text/html": [
       "<div>\n",
       "<style scoped>\n",
       "    .dataframe tbody tr th:only-of-type {\n",
       "        vertical-align: middle;\n",
       "    }\n",
       "\n",
       "    .dataframe tbody tr th {\n",
       "        vertical-align: top;\n",
       "    }\n",
       "\n",
       "    .dataframe thead th {\n",
       "        text-align: right;\n",
       "    }\n",
       "</style>\n",
       "<table border=\"1\" class=\"dataframe\">\n",
       "  <thead>\n",
       "    <tr style=\"text-align: right;\">\n",
       "      <th></th>\n",
       "      <th>claim_id</th>\n",
       "      <th>customer_id</th>\n",
       "      <th>incident_cause</th>\n",
       "      <th>claim_date</th>\n",
       "      <th>claim_area</th>\n",
       "      <th>police_report</th>\n",
       "      <th>claim_type</th>\n",
       "      <th>claim_amount</th>\n",
       "      <th>total_policy_claims</th>\n",
       "      <th>fraudulent</th>\n",
       "    </tr>\n",
       "  </thead>\n",
       "  <tbody>\n",
       "    <tr>\n",
       "      <th>0</th>\n",
       "      <td>54004764</td>\n",
       "      <td>21868593</td>\n",
       "      <td>Driver error</td>\n",
       "      <td>11/27/2017</td>\n",
       "      <td>Auto</td>\n",
       "      <td>No</td>\n",
       "      <td>Material only</td>\n",
       "      <td>$2980</td>\n",
       "      <td>1.0</td>\n",
       "      <td>No</td>\n",
       "    </tr>\n",
       "    <tr>\n",
       "      <th>1</th>\n",
       "      <td>33985796</td>\n",
       "      <td>75740424</td>\n",
       "      <td>Crime</td>\n",
       "      <td>10/03/2018</td>\n",
       "      <td>Home</td>\n",
       "      <td>Unknown</td>\n",
       "      <td>Material only</td>\n",
       "      <td>$2980</td>\n",
       "      <td>3.0</td>\n",
       "      <td>No</td>\n",
       "    </tr>\n",
       "    <tr>\n",
       "      <th>2</th>\n",
       "      <td>53522022</td>\n",
       "      <td>30308357</td>\n",
       "      <td>Other driver error</td>\n",
       "      <td>02/02/2018</td>\n",
       "      <td>Auto</td>\n",
       "      <td>No</td>\n",
       "      <td>Material only</td>\n",
       "      <td>$3369.5</td>\n",
       "      <td>1.0</td>\n",
       "      <td>Yes</td>\n",
       "    </tr>\n",
       "    <tr>\n",
       "      <th>3</th>\n",
       "      <td>13015401</td>\n",
       "      <td>47830476</td>\n",
       "      <td>Natural causes</td>\n",
       "      <td>06/17/2018</td>\n",
       "      <td>Auto</td>\n",
       "      <td>No</td>\n",
       "      <td>Material only</td>\n",
       "      <td>$1680</td>\n",
       "      <td>1.0</td>\n",
       "      <td>No</td>\n",
       "    </tr>\n",
       "    <tr>\n",
       "      <th>4</th>\n",
       "      <td>22890252</td>\n",
       "      <td>19269962</td>\n",
       "      <td>Crime</td>\n",
       "      <td>01/13/2018</td>\n",
       "      <td>Auto</td>\n",
       "      <td>No</td>\n",
       "      <td>Material only</td>\n",
       "      <td>$2680</td>\n",
       "      <td>1.0</td>\n",
       "      <td>No</td>\n",
       "    </tr>\n",
       "  </tbody>\n",
       "</table>\n",
       "</div>"
      ],
      "text/plain": [
       "   claim_id  customer_id      incident_cause  claim_date claim_area  \\\n",
       "0  54004764     21868593        Driver error  11/27/2017       Auto   \n",
       "1  33985796     75740424               Crime  10/03/2018       Home   \n",
       "2  53522022     30308357  Other driver error  02/02/2018       Auto   \n",
       "3  13015401     47830476      Natural causes  06/17/2018       Auto   \n",
       "4  22890252     19269962               Crime  01/13/2018       Auto   \n",
       "\n",
       "  police_report     claim_type claim_amount  total_policy_claims fraudulent  \n",
       "0            No  Material only        $2980                  1.0         No  \n",
       "1       Unknown  Material only        $2980                  3.0         No  \n",
       "2            No  Material only      $3369.5                  1.0        Yes  \n",
       "3            No  Material only        $1680                  1.0         No  \n",
       "4            No  Material only        $2680                  1.0         No  "
      ]
     },
     "execution_count": 534,
     "metadata": {},
     "output_type": "execute_result"
    }
   ],
   "source": [
    "claims = pd.read_csv(\"C:/Users/Pawan Sharma/Desktop/AnalytixLabs/Case Studies/Python/Python Foundation Case Study 3 - Insurance Claims Case Study/claims.csv\")\n",
    "claims.head()"
   ]
  },
  {
   "cell_type": "code",
   "execution_count": 535,
   "id": "6c07f24d",
   "metadata": {},
   "outputs": [
    {
     "data": {
      "text/html": [
       "<div>\n",
       "<style scoped>\n",
       "    .dataframe tbody tr th:only-of-type {\n",
       "        vertical-align: middle;\n",
       "    }\n",
       "\n",
       "    .dataframe tbody tr th {\n",
       "        vertical-align: top;\n",
       "    }\n",
       "\n",
       "    .dataframe thead th {\n",
       "        text-align: right;\n",
       "    }\n",
       "</style>\n",
       "<table border=\"1\" class=\"dataframe\">\n",
       "  <thead>\n",
       "    <tr style=\"text-align: right;\">\n",
       "      <th></th>\n",
       "      <th>CUST_ID</th>\n",
       "      <th>gender</th>\n",
       "      <th>DateOfBirth</th>\n",
       "      <th>State</th>\n",
       "      <th>Contact</th>\n",
       "      <th>Segment</th>\n",
       "    </tr>\n",
       "  </thead>\n",
       "  <tbody>\n",
       "    <tr>\n",
       "      <th>0</th>\n",
       "      <td>21868593</td>\n",
       "      <td>Female</td>\n",
       "      <td>12-Jan-79</td>\n",
       "      <td>VT</td>\n",
       "      <td>789-916-8172</td>\n",
       "      <td>Platinum</td>\n",
       "    </tr>\n",
       "    <tr>\n",
       "      <th>1</th>\n",
       "      <td>75740424</td>\n",
       "      <td>Female</td>\n",
       "      <td>13-Jan-70</td>\n",
       "      <td>ME</td>\n",
       "      <td>265-543-1264</td>\n",
       "      <td>Silver</td>\n",
       "    </tr>\n",
       "    <tr>\n",
       "      <th>2</th>\n",
       "      <td>30308357</td>\n",
       "      <td>Female</td>\n",
       "      <td>11-Mar-84</td>\n",
       "      <td>TN</td>\n",
       "      <td>798-631-4758</td>\n",
       "      <td>Silver</td>\n",
       "    </tr>\n",
       "    <tr>\n",
       "      <th>3</th>\n",
       "      <td>47830476</td>\n",
       "      <td>Female</td>\n",
       "      <td>01-May-86</td>\n",
       "      <td>MA</td>\n",
       "      <td>413-187-7945</td>\n",
       "      <td>Silver</td>\n",
       "    </tr>\n",
       "    <tr>\n",
       "      <th>4</th>\n",
       "      <td>19269962</td>\n",
       "      <td>Male</td>\n",
       "      <td>13-May-77</td>\n",
       "      <td>NV</td>\n",
       "      <td>956-871-8691</td>\n",
       "      <td>Gold</td>\n",
       "    </tr>\n",
       "  </tbody>\n",
       "</table>\n",
       "</div>"
      ],
      "text/plain": [
       "    CUST_ID  gender DateOfBirth State       Contact   Segment\n",
       "0  21868593  Female   12-Jan-79    VT  789-916-8172  Platinum\n",
       "1  75740424  Female   13-Jan-70    ME  265-543-1264    Silver\n",
       "2  30308357  Female   11-Mar-84    TN  798-631-4758    Silver\n",
       "3  47830476  Female   01-May-86    MA  413-187-7945    Silver\n",
       "4  19269962    Male   13-May-77    NV  956-871-8691      Gold"
      ]
     },
     "execution_count": 535,
     "metadata": {},
     "output_type": "execute_result"
    }
   ],
   "source": [
    "cust_demo = pd.read_csv(\"C:/Users/Pawan Sharma/Desktop/AnalytixLabs/Case Studies/Python/Python Foundation Case Study 3 - Insurance Claims Case Study/cust_demographics.csv\")\n",
    "cust_demo.head()"
   ]
  },
  {
   "cell_type": "code",
   "execution_count": 536,
   "id": "8417657f",
   "metadata": {},
   "outputs": [
    {
     "data": {
      "text/html": [
       "<div>\n",
       "<style scoped>\n",
       "    .dataframe tbody tr th:only-of-type {\n",
       "        vertical-align: middle;\n",
       "    }\n",
       "\n",
       "    .dataframe tbody tr th {\n",
       "        vertical-align: top;\n",
       "    }\n",
       "\n",
       "    .dataframe thead th {\n",
       "        text-align: right;\n",
       "    }\n",
       "</style>\n",
       "<table border=\"1\" class=\"dataframe\">\n",
       "  <thead>\n",
       "    <tr style=\"text-align: right;\">\n",
       "      <th></th>\n",
       "      <th>CUST_ID</th>\n",
       "      <th>gender</th>\n",
       "      <th>DateOfBirth</th>\n",
       "      <th>State</th>\n",
       "      <th>Contact</th>\n",
       "      <th>Segment</th>\n",
       "      <th>claim_id</th>\n",
       "      <th>customer_id</th>\n",
       "      <th>incident_cause</th>\n",
       "      <th>claim_date</th>\n",
       "      <th>claim_area</th>\n",
       "      <th>police_report</th>\n",
       "      <th>claim_type</th>\n",
       "      <th>claim_amount</th>\n",
       "      <th>total_policy_claims</th>\n",
       "      <th>fraudulent</th>\n",
       "    </tr>\n",
       "  </thead>\n",
       "  <tbody>\n",
       "    <tr>\n",
       "      <th>0</th>\n",
       "      <td>21868593</td>\n",
       "      <td>Female</td>\n",
       "      <td>12-Jan-79</td>\n",
       "      <td>VT</td>\n",
       "      <td>789-916-8172</td>\n",
       "      <td>Platinum</td>\n",
       "      <td>54004764</td>\n",
       "      <td>21868593</td>\n",
       "      <td>Driver error</td>\n",
       "      <td>11/27/2017</td>\n",
       "      <td>Auto</td>\n",
       "      <td>No</td>\n",
       "      <td>Material only</td>\n",
       "      <td>$2980</td>\n",
       "      <td>1.0</td>\n",
       "      <td>No</td>\n",
       "    </tr>\n",
       "    <tr>\n",
       "      <th>1</th>\n",
       "      <td>75740424</td>\n",
       "      <td>Female</td>\n",
       "      <td>13-Jan-70</td>\n",
       "      <td>ME</td>\n",
       "      <td>265-543-1264</td>\n",
       "      <td>Silver</td>\n",
       "      <td>33985796</td>\n",
       "      <td>75740424</td>\n",
       "      <td>Crime</td>\n",
       "      <td>10/03/2018</td>\n",
       "      <td>Home</td>\n",
       "      <td>Unknown</td>\n",
       "      <td>Material only</td>\n",
       "      <td>$2980</td>\n",
       "      <td>3.0</td>\n",
       "      <td>No</td>\n",
       "    </tr>\n",
       "    <tr>\n",
       "      <th>2</th>\n",
       "      <td>30308357</td>\n",
       "      <td>Female</td>\n",
       "      <td>11-Mar-84</td>\n",
       "      <td>TN</td>\n",
       "      <td>798-631-4758</td>\n",
       "      <td>Silver</td>\n",
       "      <td>53522022</td>\n",
       "      <td>30308357</td>\n",
       "      <td>Other driver error</td>\n",
       "      <td>02/02/2018</td>\n",
       "      <td>Auto</td>\n",
       "      <td>No</td>\n",
       "      <td>Material only</td>\n",
       "      <td>$3369.5</td>\n",
       "      <td>1.0</td>\n",
       "      <td>Yes</td>\n",
       "    </tr>\n",
       "    <tr>\n",
       "      <th>3</th>\n",
       "      <td>30308357</td>\n",
       "      <td>Female</td>\n",
       "      <td>11-Mar-84</td>\n",
       "      <td>TN</td>\n",
       "      <td>798-631-4758</td>\n",
       "      <td>Silver</td>\n",
       "      <td>63017412</td>\n",
       "      <td>30308357</td>\n",
       "      <td>Driver error</td>\n",
       "      <td>04/04/2018</td>\n",
       "      <td>Auto</td>\n",
       "      <td>No</td>\n",
       "      <td>Material only</td>\n",
       "      <td>$1950</td>\n",
       "      <td>6.0</td>\n",
       "      <td>No</td>\n",
       "    </tr>\n",
       "    <tr>\n",
       "      <th>4</th>\n",
       "      <td>47830476</td>\n",
       "      <td>Female</td>\n",
       "      <td>01-May-86</td>\n",
       "      <td>MA</td>\n",
       "      <td>413-187-7945</td>\n",
       "      <td>Silver</td>\n",
       "      <td>13015401</td>\n",
       "      <td>47830476</td>\n",
       "      <td>Natural causes</td>\n",
       "      <td>06/17/2018</td>\n",
       "      <td>Auto</td>\n",
       "      <td>No</td>\n",
       "      <td>Material only</td>\n",
       "      <td>$1680</td>\n",
       "      <td>1.0</td>\n",
       "      <td>No</td>\n",
       "    </tr>\n",
       "  </tbody>\n",
       "</table>\n",
       "</div>"
      ],
      "text/plain": [
       "    CUST_ID  gender DateOfBirth State       Contact   Segment  claim_id  \\\n",
       "0  21868593  Female   12-Jan-79    VT  789-916-8172  Platinum  54004764   \n",
       "1  75740424  Female   13-Jan-70    ME  265-543-1264    Silver  33985796   \n",
       "2  30308357  Female   11-Mar-84    TN  798-631-4758    Silver  53522022   \n",
       "3  30308357  Female   11-Mar-84    TN  798-631-4758    Silver  63017412   \n",
       "4  47830476  Female   01-May-86    MA  413-187-7945    Silver  13015401   \n",
       "\n",
       "   customer_id      incident_cause  claim_date claim_area police_report  \\\n",
       "0     21868593        Driver error  11/27/2017       Auto            No   \n",
       "1     75740424               Crime  10/03/2018       Home       Unknown   \n",
       "2     30308357  Other driver error  02/02/2018       Auto            No   \n",
       "3     30308357        Driver error  04/04/2018       Auto            No   \n",
       "4     47830476      Natural causes  06/17/2018       Auto            No   \n",
       "\n",
       "      claim_type claim_amount  total_policy_claims fraudulent  \n",
       "0  Material only        $2980                  1.0         No  \n",
       "1  Material only        $2980                  3.0         No  \n",
       "2  Material only      $3369.5                  1.0        Yes  \n",
       "3  Material only        $1950                  6.0         No  \n",
       "4  Material only        $1680                  1.0         No  "
      ]
     },
     "execution_count": 536,
     "metadata": {},
     "output_type": "execute_result"
    }
   ],
   "source": [
    "Cust_Claim = pd.merge(left=cust_demo,right=claims,left_on=\"CUST_ID\",right_on=\"customer_id\",how = \"inner\")\n",
    "Cust_Claim.head()"
   ]
  },
  {
   "cell_type": "code",
   "execution_count": 537,
   "id": "bd59a57c",
   "metadata": {},
   "outputs": [],
   "source": [
    "#Q2. Perform a data audit for the datatypes and find out if there are any mismatch\n",
    "#within the current datatypes of the columns and their business significance."
   ]
  },
  {
   "cell_type": "code",
   "execution_count": 538,
   "id": "016bf679",
   "metadata": {},
   "outputs": [
    {
     "name": "stdout",
     "output_type": "stream",
     "text": [
      "<class 'pandas.core.frame.DataFrame'>\n",
      "Int64Index: 1085 entries, 0 to 1084\n",
      "Data columns (total 16 columns):\n",
      " #   Column               Non-Null Count  Dtype  \n",
      "---  ------               --------------  -----  \n",
      " 0   CUST_ID              1085 non-null   int64  \n",
      " 1   gender               1085 non-null   object \n",
      " 2   DateOfBirth          1085 non-null   object \n",
      " 3   State                1085 non-null   object \n",
      " 4   Contact              1085 non-null   object \n",
      " 5   Segment              1085 non-null   object \n",
      " 6   claim_id             1085 non-null   int64  \n",
      " 7   customer_id          1085 non-null   int64  \n",
      " 8   incident_cause       1085 non-null   object \n",
      " 9   claim_date           1085 non-null   object \n",
      " 10  claim_area           1085 non-null   object \n",
      " 11  police_report        1085 non-null   object \n",
      " 12  claim_type           1085 non-null   object \n",
      " 13  claim_amount         1020 non-null   object \n",
      " 14  total_policy_claims  1075 non-null   float64\n",
      " 15  fraudulent           1085 non-null   object \n",
      "dtypes: float64(1), int64(3), object(12)\n",
      "memory usage: 144.1+ KB\n"
     ]
    }
   ],
   "source": [
    "Cust_Claim.info()"
   ]
  },
  {
   "cell_type": "code",
   "execution_count": 539,
   "id": "408ae28a",
   "metadata": {},
   "outputs": [
    {
     "data": {
      "text/html": [
       "<div>\n",
       "<style scoped>\n",
       "    .dataframe tbody tr th:only-of-type {\n",
       "        vertical-align: middle;\n",
       "    }\n",
       "\n",
       "    .dataframe tbody tr th {\n",
       "        vertical-align: top;\n",
       "    }\n",
       "\n",
       "    .dataframe thead th {\n",
       "        text-align: right;\n",
       "    }\n",
       "</style>\n",
       "<table border=\"1\" class=\"dataframe\">\n",
       "  <thead>\n",
       "    <tr style=\"text-align: right;\">\n",
       "      <th></th>\n",
       "      <th></th>\n",
       "      <th>mean</th>\n",
       "      <th>std_dev</th>\n",
       "      <th>missing</th>\n",
       "      <th>min</th>\n",
       "      <th>max</th>\n",
       "    </tr>\n",
       "  </thead>\n",
       "  <tbody>\n",
       "    <tr>\n",
       "      <th>0</th>\n",
       "      <td>CUST_ID</td>\n",
       "      <td>50767904.341935486</td>\n",
       "      <td>28496245.372373052</td>\n",
       "      <td>0</td>\n",
       "      <td>154557.0</td>\n",
       "      <td>99961993.0</td>\n",
       "    </tr>\n",
       "    <tr>\n",
       "      <th>1</th>\n",
       "      <td>claim_id</td>\n",
       "      <td>48915528.40092166</td>\n",
       "      <td>29128181.617819</td>\n",
       "      <td>0</td>\n",
       "      <td>26832.0</td>\n",
       "      <td>99775483.0</td>\n",
       "    </tr>\n",
       "    <tr>\n",
       "      <th>2</th>\n",
       "      <td>customer_id</td>\n",
       "      <td>50767904.341935486</td>\n",
       "      <td>28496245.372373052</td>\n",
       "      <td>0</td>\n",
       "      <td>154557.0</td>\n",
       "      <td>99961993.0</td>\n",
       "    </tr>\n",
       "    <tr>\n",
       "      <th>3</th>\n",
       "      <td>total_policy_claims</td>\n",
       "      <td>1.5869767441860465</td>\n",
       "      <td>1.1468593964606506</td>\n",
       "      <td>10</td>\n",
       "      <td>1.0</td>\n",
       "      <td>8.0</td>\n",
       "    </tr>\n",
       "    <tr>\n",
       "      <th>4</th>\n",
       "      <td>gender</td>\n",
       "      <td>Not Applicable</td>\n",
       "      <td>Not Applicable</td>\n",
       "      <td>0</td>\n",
       "      <td>Not Applicable</td>\n",
       "      <td>Not Applicable</td>\n",
       "    </tr>\n",
       "    <tr>\n",
       "      <th>5</th>\n",
       "      <td>DateOfBirth</td>\n",
       "      <td>Not Applicable</td>\n",
       "      <td>Not Applicable</td>\n",
       "      <td>0</td>\n",
       "      <td>Not Applicable</td>\n",
       "      <td>Not Applicable</td>\n",
       "    </tr>\n",
       "    <tr>\n",
       "      <th>6</th>\n",
       "      <td>State</td>\n",
       "      <td>Not Applicable</td>\n",
       "      <td>Not Applicable</td>\n",
       "      <td>0</td>\n",
       "      <td>Not Applicable</td>\n",
       "      <td>Not Applicable</td>\n",
       "    </tr>\n",
       "    <tr>\n",
       "      <th>7</th>\n",
       "      <td>Contact</td>\n",
       "      <td>Not Applicable</td>\n",
       "      <td>Not Applicable</td>\n",
       "      <td>0</td>\n",
       "      <td>Not Applicable</td>\n",
       "      <td>Not Applicable</td>\n",
       "    </tr>\n",
       "    <tr>\n",
       "      <th>8</th>\n",
       "      <td>Segment</td>\n",
       "      <td>Not Applicable</td>\n",
       "      <td>Not Applicable</td>\n",
       "      <td>0</td>\n",
       "      <td>Not Applicable</td>\n",
       "      <td>Not Applicable</td>\n",
       "    </tr>\n",
       "    <tr>\n",
       "      <th>9</th>\n",
       "      <td>incident_cause</td>\n",
       "      <td>Not Applicable</td>\n",
       "      <td>Not Applicable</td>\n",
       "      <td>0</td>\n",
       "      <td>Not Applicable</td>\n",
       "      <td>Not Applicable</td>\n",
       "    </tr>\n",
       "    <tr>\n",
       "      <th>10</th>\n",
       "      <td>claim_date</td>\n",
       "      <td>Not Applicable</td>\n",
       "      <td>Not Applicable</td>\n",
       "      <td>0</td>\n",
       "      <td>Not Applicable</td>\n",
       "      <td>Not Applicable</td>\n",
       "    </tr>\n",
       "    <tr>\n",
       "      <th>11</th>\n",
       "      <td>claim_area</td>\n",
       "      <td>Not Applicable</td>\n",
       "      <td>Not Applicable</td>\n",
       "      <td>0</td>\n",
       "      <td>Not Applicable</td>\n",
       "      <td>Not Applicable</td>\n",
       "    </tr>\n",
       "    <tr>\n",
       "      <th>12</th>\n",
       "      <td>police_report</td>\n",
       "      <td>Not Applicable</td>\n",
       "      <td>Not Applicable</td>\n",
       "      <td>0</td>\n",
       "      <td>Not Applicable</td>\n",
       "      <td>Not Applicable</td>\n",
       "    </tr>\n",
       "    <tr>\n",
       "      <th>13</th>\n",
       "      <td>claim_type</td>\n",
       "      <td>Not Applicable</td>\n",
       "      <td>Not Applicable</td>\n",
       "      <td>0</td>\n",
       "      <td>Not Applicable</td>\n",
       "      <td>Not Applicable</td>\n",
       "    </tr>\n",
       "    <tr>\n",
       "      <th>14</th>\n",
       "      <td>claim_amount</td>\n",
       "      <td>Not Applicable</td>\n",
       "      <td>Not Applicable</td>\n",
       "      <td>65</td>\n",
       "      <td>Not Applicable</td>\n",
       "      <td>Not Applicable</td>\n",
       "    </tr>\n",
       "    <tr>\n",
       "      <th>15</th>\n",
       "      <td>fraudulent</td>\n",
       "      <td>Not Applicable</td>\n",
       "      <td>Not Applicable</td>\n",
       "      <td>0</td>\n",
       "      <td>Not Applicable</td>\n",
       "      <td>Not Applicable</td>\n",
       "    </tr>\n",
       "  </tbody>\n",
       "</table>\n",
       "</div>"
      ],
      "text/plain": [
       "                                       mean             std_dev  missing  \\\n",
       "0               CUST_ID  50767904.341935486  28496245.372373052        0   \n",
       "1              claim_id   48915528.40092166     29128181.617819        0   \n",
       "2           customer_id  50767904.341935486  28496245.372373052        0   \n",
       "3   total_policy_claims  1.5869767441860465  1.1468593964606506       10   \n",
       "4                gender      Not Applicable      Not Applicable        0   \n",
       "5           DateOfBirth      Not Applicable      Not Applicable        0   \n",
       "6                 State      Not Applicable      Not Applicable        0   \n",
       "7               Contact      Not Applicable      Not Applicable        0   \n",
       "8               Segment      Not Applicable      Not Applicable        0   \n",
       "9        incident_cause      Not Applicable      Not Applicable        0   \n",
       "10           claim_date      Not Applicable      Not Applicable        0   \n",
       "11           claim_area      Not Applicable      Not Applicable        0   \n",
       "12        police_report      Not Applicable      Not Applicable        0   \n",
       "13           claim_type      Not Applicable      Not Applicable        0   \n",
       "14         claim_amount      Not Applicable      Not Applicable       65   \n",
       "15           fraudulent      Not Applicable      Not Applicable        0   \n",
       "\n",
       "               min             max  \n",
       "0         154557.0      99961993.0  \n",
       "1          26832.0      99775483.0  \n",
       "2         154557.0      99961993.0  \n",
       "3              1.0             8.0  \n",
       "4   Not Applicable  Not Applicable  \n",
       "5   Not Applicable  Not Applicable  \n",
       "6   Not Applicable  Not Applicable  \n",
       "7   Not Applicable  Not Applicable  \n",
       "8   Not Applicable  Not Applicable  \n",
       "9   Not Applicable  Not Applicable  \n",
       "10  Not Applicable  Not Applicable  \n",
       "11  Not Applicable  Not Applicable  \n",
       "12  Not Applicable  Not Applicable  \n",
       "13  Not Applicable  Not Applicable  \n",
       "14  Not Applicable  Not Applicable  \n",
       "15  Not Applicable  Not Applicable  "
      ]
     },
     "execution_count": 539,
     "metadata": {},
     "output_type": "execute_result"
    }
   ],
   "source": [
    "from pandas import DataFrame\n",
    "#Data Audit\n",
    "d=Cust_Claim.dtypes[Cust_Claim.dtypes!='object'].index.values\n",
    "Cust_Claim[d]=Cust_Claim[d].astype('float64')\n",
    "\n",
    "mean=DataFrame({'mean':Cust_Claim[d].mean()})\n",
    "std_dev=DataFrame({'std_dev':Cust_Claim[d].std()})\n",
    "missing= DataFrame({'missing':Cust_Claim[d].isnull().sum()})\n",
    "minimum=DataFrame({'min':Cust_Claim[d].min()})\n",
    "maximum=DataFrame({'max':Cust_Claim[d].max()})\n",
    "data_audit1=pd.concat([mean,std_dev,missing,minimum,maximum],axis=1,sort = False)\n",
    "\n",
    "c=Cust_Claim.dtypes[Cust_Claim.dtypes=='object'].index.values\n",
    "Mean=DataFrame({'mean':np.repeat('Not Applicable',len(c))},index=c)\n",
    "Std_Dev=DataFrame({'std_dev':np.repeat('Not Applicable',len(c))},index=c)\n",
    "Missing=DataFrame({'missing':Cust_Claim[c].isnull().sum()})\n",
    "Minimum=DataFrame({'min':np.repeat('Not Applicable',len(c))},index=c)\n",
    "Maximum=DataFrame({'max':np.repeat('Not Applicable',len(c))},index=c)\n",
    "data_audit2=pd.concat([Mean,Std_Dev,Missing,Minimum,Maximum],axis =1,sort = False)\n",
    "\n",
    "concat_audit = pd.concat([data_audit1,data_audit2])\n",
    "concat_audit.to_csv('DataAudit.csv')\n",
    "concat_audit2 = pd.read_csv(\"DataAudit.csv\")\n",
    "concat_audit2.rename(columns = {'Unnamed: 0':''})"
   ]
  },
  {
   "cell_type": "code",
   "execution_count": 540,
   "id": "21fefd44",
   "metadata": {},
   "outputs": [],
   "source": [
    "Cust_Claim[\"DateOfBirth\"] = pd.to_datetime(Cust_Claim[\"DateOfBirth\"])\n",
    "Cust_Claim[\"claim_date\"] = pd.to_datetime(Cust_Claim[\"claim_date\"])\n"
   ]
  },
  {
   "cell_type": "code",
   "execution_count": 541,
   "id": "2ab3015f",
   "metadata": {},
   "outputs": [],
   "source": [
    "#Q3. Convert the column claim amount into numeric. Use the appropriate modules/ attributes to remove the dollar sign ($)."
   ]
  },
  {
   "cell_type": "code",
   "execution_count": 542,
   "id": "4637e5a7",
   "metadata": {},
   "outputs": [
    {
     "name": "stderr",
     "output_type": "stream",
     "text": [
      "<ipython-input-542-d008c42f4883>:1: FutureWarning: The default value of regex will change from True to False in a future version. In addition, single character regular expressions will*not* be treated as literal strings when regex=True.\n",
      "  Cust_Claim[\"claim_amount\"] = Cust_Claim.claim_amount.str.replace(\"$\",\"\").astype(\"float\")\n"
     ]
    }
   ],
   "source": [
    "Cust_Claim[\"claim_amount\"] = Cust_Claim.claim_amount.str.replace(\"$\",\"\").astype(\"float\")"
   ]
  },
  {
   "cell_type": "code",
   "execution_count": 543,
   "id": "fd87ea35",
   "metadata": {},
   "outputs": [
    {
     "name": "stdout",
     "output_type": "stream",
     "text": [
      "<class 'pandas.core.frame.DataFrame'>\n",
      "Int64Index: 1085 entries, 0 to 1084\n",
      "Data columns (total 16 columns):\n",
      " #   Column               Non-Null Count  Dtype         \n",
      "---  ------               --------------  -----         \n",
      " 0   CUST_ID              1085 non-null   float64       \n",
      " 1   gender               1085 non-null   object        \n",
      " 2   DateOfBirth          1085 non-null   datetime64[ns]\n",
      " 3   State                1085 non-null   object        \n",
      " 4   Contact              1085 non-null   object        \n",
      " 5   Segment              1085 non-null   object        \n",
      " 6   claim_id             1085 non-null   float64       \n",
      " 7   customer_id          1085 non-null   float64       \n",
      " 8   incident_cause       1085 non-null   object        \n",
      " 9   claim_date           1085 non-null   datetime64[ns]\n",
      " 10  claim_area           1085 non-null   object        \n",
      " 11  police_report        1085 non-null   object        \n",
      " 12  claim_type           1085 non-null   object        \n",
      " 13  claim_amount         1020 non-null   float64       \n",
      " 14  total_policy_claims  1075 non-null   float64       \n",
      " 15  fraudulent           1085 non-null   object        \n",
      "dtypes: datetime64[ns](2), float64(5), object(9)\n",
      "memory usage: 144.1+ KB\n"
     ]
    }
   ],
   "source": [
    "Cust_Claim.info()"
   ]
  },
  {
   "cell_type": "code",
   "execution_count": 544,
   "id": "e26f264f",
   "metadata": {},
   "outputs": [],
   "source": [
    "#Q4.Of all the injury claims, some of them have gone unreported with the police. \n",
    "#Create an alert flag(1,0) for all such claims."
   ]
  },
  {
   "cell_type": "code",
   "execution_count": 545,
   "id": "96d205fb",
   "metadata": {},
   "outputs": [
    {
     "data": {
      "text/html": [
       "<div>\n",
       "<style scoped>\n",
       "    .dataframe tbody tr th:only-of-type {\n",
       "        vertical-align: middle;\n",
       "    }\n",
       "\n",
       "    .dataframe tbody tr th {\n",
       "        vertical-align: top;\n",
       "    }\n",
       "\n",
       "    .dataframe thead th {\n",
       "        text-align: right;\n",
       "    }\n",
       "</style>\n",
       "<table border=\"1\" class=\"dataframe\">\n",
       "  <thead>\n",
       "    <tr style=\"text-align: right;\">\n",
       "      <th></th>\n",
       "      <th>CUST_ID</th>\n",
       "      <th>gender</th>\n",
       "      <th>DateOfBirth</th>\n",
       "      <th>State</th>\n",
       "      <th>Contact</th>\n",
       "      <th>Segment</th>\n",
       "      <th>claim_id</th>\n",
       "      <th>customer_id</th>\n",
       "      <th>incident_cause</th>\n",
       "      <th>claim_date</th>\n",
       "      <th>claim_area</th>\n",
       "      <th>police_report</th>\n",
       "      <th>claim_type</th>\n",
       "      <th>claim_amount</th>\n",
       "      <th>total_policy_claims</th>\n",
       "      <th>fraudulent</th>\n",
       "      <th>Flag</th>\n",
       "    </tr>\n",
       "  </thead>\n",
       "  <tbody>\n",
       "    <tr>\n",
       "      <th>0</th>\n",
       "      <td>21868593.0</td>\n",
       "      <td>Female</td>\n",
       "      <td>1979-01-12</td>\n",
       "      <td>VT</td>\n",
       "      <td>789-916-8172</td>\n",
       "      <td>Platinum</td>\n",
       "      <td>54004764.0</td>\n",
       "      <td>21868593.0</td>\n",
       "      <td>Driver error</td>\n",
       "      <td>2017-11-27</td>\n",
       "      <td>Auto</td>\n",
       "      <td>No</td>\n",
       "      <td>Material only</td>\n",
       "      <td>2980.0</td>\n",
       "      <td>1.0</td>\n",
       "      <td>No</td>\n",
       "      <td>1</td>\n",
       "    </tr>\n",
       "    <tr>\n",
       "      <th>1</th>\n",
       "      <td>75740424.0</td>\n",
       "      <td>Female</td>\n",
       "      <td>2070-01-13</td>\n",
       "      <td>ME</td>\n",
       "      <td>265-543-1264</td>\n",
       "      <td>Silver</td>\n",
       "      <td>33985796.0</td>\n",
       "      <td>75740424.0</td>\n",
       "      <td>Crime</td>\n",
       "      <td>2018-10-03</td>\n",
       "      <td>Home</td>\n",
       "      <td>Unknown</td>\n",
       "      <td>Material only</td>\n",
       "      <td>2980.0</td>\n",
       "      <td>3.0</td>\n",
       "      <td>No</td>\n",
       "      <td>0</td>\n",
       "    </tr>\n",
       "  </tbody>\n",
       "</table>\n",
       "</div>"
      ],
      "text/plain": [
       "      CUST_ID  gender DateOfBirth State       Contact   Segment    claim_id  \\\n",
       "0  21868593.0  Female  1979-01-12    VT  789-916-8172  Platinum  54004764.0   \n",
       "1  75740424.0  Female  2070-01-13    ME  265-543-1264    Silver  33985796.0   \n",
       "\n",
       "   customer_id incident_cause claim_date claim_area police_report  \\\n",
       "0   21868593.0   Driver error 2017-11-27       Auto            No   \n",
       "1   75740424.0          Crime 2018-10-03       Home       Unknown   \n",
       "\n",
       "      claim_type  claim_amount  total_policy_claims fraudulent  Flag  \n",
       "0  Material only        2980.0                  1.0         No     1  \n",
       "1  Material only        2980.0                  3.0         No     0  "
      ]
     },
     "execution_count": 545,
     "metadata": {},
     "output_type": "execute_result"
    }
   ],
   "source": [
    "Cust_Claim['Flag'] = np.where(Cust_Claim.police_report == 'Unknown',0,1)\n",
    "Cust_Claim.head(2)"
   ]
  },
  {
   "cell_type": "code",
   "execution_count": 546,
   "id": "82e9f4bd",
   "metadata": {},
   "outputs": [],
   "source": [
    "#Q5. One customer can claim for insurance more than once and in each claim, \n",
    "# multiple categories of claims can be involved. However, customer ID should remain unique.\n",
    "# Retain the most recent observation and delete any duplicated records in the data based on the customer ID column."
   ]
  },
  {
   "cell_type": "code",
   "execution_count": 547,
   "id": "c55ac5e1",
   "metadata": {},
   "outputs": [
    {
     "data": {
      "text/html": [
       "<div>\n",
       "<style scoped>\n",
       "    .dataframe tbody tr th:only-of-type {\n",
       "        vertical-align: middle;\n",
       "    }\n",
       "\n",
       "    .dataframe tbody tr th {\n",
       "        vertical-align: top;\n",
       "    }\n",
       "\n",
       "    .dataframe thead th {\n",
       "        text-align: right;\n",
       "    }\n",
       "</style>\n",
       "<table border=\"1\" class=\"dataframe\">\n",
       "  <thead>\n",
       "    <tr style=\"text-align: right;\">\n",
       "      <th></th>\n",
       "      <th>CUST_ID</th>\n",
       "      <th>gender</th>\n",
       "      <th>DateOfBirth</th>\n",
       "      <th>State</th>\n",
       "      <th>Contact</th>\n",
       "      <th>Segment</th>\n",
       "      <th>claim_id</th>\n",
       "      <th>customer_id</th>\n",
       "      <th>incident_cause</th>\n",
       "      <th>claim_date</th>\n",
       "      <th>claim_area</th>\n",
       "      <th>police_report</th>\n",
       "      <th>claim_type</th>\n",
       "      <th>claim_amount</th>\n",
       "      <th>total_policy_claims</th>\n",
       "      <th>fraudulent</th>\n",
       "      <th>Flag</th>\n",
       "    </tr>\n",
       "  </thead>\n",
       "  <tbody>\n",
       "    <tr>\n",
       "      <th>0</th>\n",
       "      <td>21868593.0</td>\n",
       "      <td>Female</td>\n",
       "      <td>1979-01-12</td>\n",
       "      <td>VT</td>\n",
       "      <td>789-916-8172</td>\n",
       "      <td>Platinum</td>\n",
       "      <td>54004764.0</td>\n",
       "      <td>21868593.0</td>\n",
       "      <td>Driver error</td>\n",
       "      <td>2017-11-27</td>\n",
       "      <td>Auto</td>\n",
       "      <td>No</td>\n",
       "      <td>Material only</td>\n",
       "      <td>2980.0</td>\n",
       "      <td>1.0</td>\n",
       "      <td>No</td>\n",
       "      <td>1</td>\n",
       "    </tr>\n",
       "    <tr>\n",
       "      <th>1</th>\n",
       "      <td>75740424.0</td>\n",
       "      <td>Female</td>\n",
       "      <td>2070-01-13</td>\n",
       "      <td>ME</td>\n",
       "      <td>265-543-1264</td>\n",
       "      <td>Silver</td>\n",
       "      <td>33985796.0</td>\n",
       "      <td>75740424.0</td>\n",
       "      <td>Crime</td>\n",
       "      <td>2018-10-03</td>\n",
       "      <td>Home</td>\n",
       "      <td>Unknown</td>\n",
       "      <td>Material only</td>\n",
       "      <td>2980.0</td>\n",
       "      <td>3.0</td>\n",
       "      <td>No</td>\n",
       "      <td>0</td>\n",
       "    </tr>\n",
       "  </tbody>\n",
       "</table>\n",
       "</div>"
      ],
      "text/plain": [
       "      CUST_ID  gender DateOfBirth State       Contact   Segment    claim_id  \\\n",
       "0  21868593.0  Female  1979-01-12    VT  789-916-8172  Platinum  54004764.0   \n",
       "1  75740424.0  Female  2070-01-13    ME  265-543-1264    Silver  33985796.0   \n",
       "\n",
       "   customer_id incident_cause claim_date claim_area police_report  \\\n",
       "0   21868593.0   Driver error 2017-11-27       Auto            No   \n",
       "1   75740424.0          Crime 2018-10-03       Home       Unknown   \n",
       "\n",
       "      claim_type  claim_amount  total_policy_claims fraudulent  Flag  \n",
       "0  Material only        2980.0                  1.0         No     1  \n",
       "1  Material only        2980.0                  3.0         No     0  "
      ]
     },
     "execution_count": 547,
     "metadata": {},
     "output_type": "execute_result"
    }
   ],
   "source": [
    "data_new = Cust_Claim.drop_duplicates(subset = 'CUST_ID',keep = 'last')\n",
    "data_new.head(2)"
   ]
  },
  {
   "cell_type": "code",
   "execution_count": 548,
   "id": "a5e4cecb",
   "metadata": {},
   "outputs": [],
   "source": [
    "#Q6. Check for missing values and impute the missing values with an appropriate value. (mean for continuous and mode for categorical)"
   ]
  },
  {
   "cell_type": "code",
   "execution_count": 549,
   "id": "9401d5a9",
   "metadata": {},
   "outputs": [
    {
     "data": {
      "text/plain": [
       "CUST_ID                 0\n",
       "gender                  0\n",
       "DateOfBirth             0\n",
       "State                   0\n",
       "Contact                 0\n",
       "Segment                 0\n",
       "claim_id                0\n",
       "customer_id             0\n",
       "incident_cause          0\n",
       "claim_date              0\n",
       "claim_area              0\n",
       "police_report           0\n",
       "claim_type              0\n",
       "claim_amount           65\n",
       "total_policy_claims    10\n",
       "fraudulent              0\n",
       "Flag                    0\n",
       "dtype: int64"
      ]
     },
     "execution_count": 549,
     "metadata": {},
     "output_type": "execute_result"
    }
   ],
   "source": [
    "Cust_Claim.isnull().sum()"
   ]
  },
  {
   "cell_type": "code",
   "execution_count": 550,
   "id": "475ac155",
   "metadata": {},
   "outputs": [
    {
     "data": {
      "text/plain": [
       "CUST_ID                 0\n",
       "gender                  0\n",
       "DateOfBirth             0\n",
       "State                   0\n",
       "Contact                 0\n",
       "Segment                 0\n",
       "claim_id                0\n",
       "customer_id             0\n",
       "incident_cause          0\n",
       "claim_date              0\n",
       "claim_area              0\n",
       "police_report           0\n",
       "claim_type              0\n",
       "claim_amount            0\n",
       "total_policy_claims    10\n",
       "fraudulent              0\n",
       "Flag                    0\n",
       "dtype: int64"
      ]
     },
     "execution_count": 550,
     "metadata": {},
     "output_type": "execute_result"
    }
   ],
   "source": [
    "#For categorical variable\n",
    "Cust_Claim[\"total_policy_claims\"] = Cust_Claim[\"total_policy_claims\"].fillna(Cust_Claim[\"total_policy_claims\"].mode())\n",
    "\n",
    "#For continuous variable\n",
    "Cust_Claim[\"claim_amount\"] = Cust_Claim[\"claim_amount\"].fillna(Cust_Claim[\"claim_amount\"].mean())\n",
    "Cust_Claim.isnull().sum()"
   ]
  },
  {
   "cell_type": "code",
   "execution_count": 551,
   "id": "a75d1faf",
   "metadata": {},
   "outputs": [],
   "source": [
    "#Q7. Calculate the age of customers in years. Based on the age, categorize the\n",
    "#customers according to the below criteria\n",
    "#Children < 18\n",
    "#Youth 18-30\n",
    "#Adult 30-60\n",
    "#Senior > 60"
   ]
  },
  {
   "cell_type": "code",
   "execution_count": 552,
   "id": "400155d2",
   "metadata": {},
   "outputs": [
    {
     "data": {
      "text/html": [
       "<div>\n",
       "<style scoped>\n",
       "    .dataframe tbody tr th:only-of-type {\n",
       "        vertical-align: middle;\n",
       "    }\n",
       "\n",
       "    .dataframe tbody tr th {\n",
       "        vertical-align: top;\n",
       "    }\n",
       "\n",
       "    .dataframe thead th {\n",
       "        text-align: right;\n",
       "    }\n",
       "</style>\n",
       "<table border=\"1\" class=\"dataframe\">\n",
       "  <thead>\n",
       "    <tr style=\"text-align: right;\">\n",
       "      <th></th>\n",
       "      <th>CUST_ID</th>\n",
       "      <th>gender</th>\n",
       "      <th>DateOfBirth</th>\n",
       "      <th>State</th>\n",
       "      <th>Contact</th>\n",
       "      <th>Segment</th>\n",
       "      <th>claim_id</th>\n",
       "      <th>customer_id</th>\n",
       "      <th>incident_cause</th>\n",
       "      <th>claim_date</th>\n",
       "      <th>claim_area</th>\n",
       "      <th>police_report</th>\n",
       "      <th>claim_type</th>\n",
       "      <th>claim_amount</th>\n",
       "      <th>total_policy_claims</th>\n",
       "      <th>fraudulent</th>\n",
       "      <th>Flag</th>\n",
       "      <th>Age</th>\n",
       "    </tr>\n",
       "  </thead>\n",
       "  <tbody>\n",
       "    <tr>\n",
       "      <th>0</th>\n",
       "      <td>21868593.0</td>\n",
       "      <td>Female</td>\n",
       "      <td>1979-01-12</td>\n",
       "      <td>VT</td>\n",
       "      <td>789-916-8172</td>\n",
       "      <td>Platinum</td>\n",
       "      <td>54004764.0</td>\n",
       "      <td>21868593.0</td>\n",
       "      <td>Driver error</td>\n",
       "      <td>2017-11-27</td>\n",
       "      <td>Auto</td>\n",
       "      <td>No</td>\n",
       "      <td>Material only</td>\n",
       "      <td>2980.0</td>\n",
       "      <td>1.0</td>\n",
       "      <td>No</td>\n",
       "      <td>1</td>\n",
       "      <td>42</td>\n",
       "    </tr>\n",
       "    <tr>\n",
       "      <th>1</th>\n",
       "      <td>75740424.0</td>\n",
       "      <td>Female</td>\n",
       "      <td>2070-01-13</td>\n",
       "      <td>ME</td>\n",
       "      <td>265-543-1264</td>\n",
       "      <td>Silver</td>\n",
       "      <td>33985796.0</td>\n",
       "      <td>75740424.0</td>\n",
       "      <td>Crime</td>\n",
       "      <td>2018-10-03</td>\n",
       "      <td>Home</td>\n",
       "      <td>Unknown</td>\n",
       "      <td>Material only</td>\n",
       "      <td>2980.0</td>\n",
       "      <td>3.0</td>\n",
       "      <td>No</td>\n",
       "      <td>0</td>\n",
       "      <td>51</td>\n",
       "    </tr>\n",
       "  </tbody>\n",
       "</table>\n",
       "</div>"
      ],
      "text/plain": [
       "      CUST_ID  gender DateOfBirth State       Contact   Segment    claim_id  \\\n",
       "0  21868593.0  Female  1979-01-12    VT  789-916-8172  Platinum  54004764.0   \n",
       "1  75740424.0  Female  2070-01-13    ME  265-543-1264    Silver  33985796.0   \n",
       "\n",
       "   customer_id incident_cause claim_date claim_area police_report  \\\n",
       "0   21868593.0   Driver error 2017-11-27       Auto            No   \n",
       "1   75740424.0          Crime 2018-10-03       Home       Unknown   \n",
       "\n",
       "      claim_type  claim_amount  total_policy_claims fraudulent  Flag  Age  \n",
       "0  Material only        2980.0                  1.0         No     1   42  \n",
       "1  Material only        2980.0                  3.0         No     0   51  "
      ]
     },
     "execution_count": 552,
     "metadata": {},
     "output_type": "execute_result"
    }
   ],
   "source": [
    "year_current = datetime.datetime.now().year\n",
    "year_dob = Cust_Claim.DateOfBirth.dt.year          \n",
    "\n",
    "year_1 = year_dob-100                                               \n",
    "year_2 = year_current - year_1\n",
    "\n",
    "year_final = year_current - year_dob\n",
    "\n",
    "Cust_Claim['Age'] = np.where(year_dob > year_current,year_2,year_final)\n",
    "Cust_Claim.head(2)"
   ]
  },
  {
   "cell_type": "code",
   "execution_count": 553,
   "id": "296b495f",
   "metadata": {},
   "outputs": [
    {
     "data": {
      "text/html": [
       "<div>\n",
       "<style scoped>\n",
       "    .dataframe tbody tr th:only-of-type {\n",
       "        vertical-align: middle;\n",
       "    }\n",
       "\n",
       "    .dataframe tbody tr th {\n",
       "        vertical-align: top;\n",
       "    }\n",
       "\n",
       "    .dataframe thead th {\n",
       "        text-align: right;\n",
       "    }\n",
       "</style>\n",
       "<table border=\"1\" class=\"dataframe\">\n",
       "  <thead>\n",
       "    <tr style=\"text-align: right;\">\n",
       "      <th></th>\n",
       "      <th>CUST_ID</th>\n",
       "      <th>gender</th>\n",
       "      <th>DateOfBirth</th>\n",
       "      <th>State</th>\n",
       "      <th>Contact</th>\n",
       "      <th>Segment</th>\n",
       "      <th>claim_id</th>\n",
       "      <th>customer_id</th>\n",
       "      <th>incident_cause</th>\n",
       "      <th>claim_date</th>\n",
       "      <th>claim_area</th>\n",
       "      <th>police_report</th>\n",
       "      <th>claim_type</th>\n",
       "      <th>claim_amount</th>\n",
       "      <th>total_policy_claims</th>\n",
       "      <th>fraudulent</th>\n",
       "      <th>Flag</th>\n",
       "      <th>Age</th>\n",
       "      <th>Age_cat</th>\n",
       "    </tr>\n",
       "  </thead>\n",
       "  <tbody>\n",
       "    <tr>\n",
       "      <th>0</th>\n",
       "      <td>21868593.0</td>\n",
       "      <td>Female</td>\n",
       "      <td>1979-01-12</td>\n",
       "      <td>VT</td>\n",
       "      <td>789-916-8172</td>\n",
       "      <td>Platinum</td>\n",
       "      <td>54004764.0</td>\n",
       "      <td>21868593.0</td>\n",
       "      <td>Driver error</td>\n",
       "      <td>2017-11-27</td>\n",
       "      <td>Auto</td>\n",
       "      <td>No</td>\n",
       "      <td>Material only</td>\n",
       "      <td>2980.0</td>\n",
       "      <td>1.0</td>\n",
       "      <td>No</td>\n",
       "      <td>1</td>\n",
       "      <td>42</td>\n",
       "      <td>Adult</td>\n",
       "    </tr>\n",
       "    <tr>\n",
       "      <th>1</th>\n",
       "      <td>75740424.0</td>\n",
       "      <td>Female</td>\n",
       "      <td>2070-01-13</td>\n",
       "      <td>ME</td>\n",
       "      <td>265-543-1264</td>\n",
       "      <td>Silver</td>\n",
       "      <td>33985796.0</td>\n",
       "      <td>75740424.0</td>\n",
       "      <td>Crime</td>\n",
       "      <td>2018-10-03</td>\n",
       "      <td>Home</td>\n",
       "      <td>Unknown</td>\n",
       "      <td>Material only</td>\n",
       "      <td>2980.0</td>\n",
       "      <td>3.0</td>\n",
       "      <td>No</td>\n",
       "      <td>0</td>\n",
       "      <td>51</td>\n",
       "      <td>Adult</td>\n",
       "    </tr>\n",
       "  </tbody>\n",
       "</table>\n",
       "</div>"
      ],
      "text/plain": [
       "      CUST_ID  gender DateOfBirth State       Contact   Segment    claim_id  \\\n",
       "0  21868593.0  Female  1979-01-12    VT  789-916-8172  Platinum  54004764.0   \n",
       "1  75740424.0  Female  2070-01-13    ME  265-543-1264    Silver  33985796.0   \n",
       "\n",
       "   customer_id incident_cause claim_date claim_area police_report  \\\n",
       "0   21868593.0   Driver error 2017-11-27       Auto            No   \n",
       "1   75740424.0          Crime 2018-10-03       Home       Unknown   \n",
       "\n",
       "      claim_type  claim_amount  total_policy_claims fraudulent  Flag  Age  \\\n",
       "0  Material only        2980.0                  1.0         No     1   42   \n",
       "1  Material only        2980.0                  3.0         No     0   51   \n",
       "\n",
       "  Age_cat  \n",
       "0   Adult  \n",
       "1   Adult  "
      ]
     },
     "execution_count": 553,
     "metadata": {},
     "output_type": "execute_result"
    }
   ],
   "source": [
    "Cust_Claim[\"Age_cat\"] = np.where(Cust_Claim.Age < 18, \"Children\", np.where((Cust_Claim.Age > 18) & (Cust_Claim.Age < 30), \"Youth\",\n",
    "                                                                           np.where(((Cust_Claim.Age > 30) &  (Cust_Claim.Age < 60)), \"Adult\", \"Senior\")))\n",
    "Cust_Claim.head(2)"
   ]
  },
  {
   "cell_type": "code",
   "execution_count": 554,
   "id": "bf2af913",
   "metadata": {},
   "outputs": [],
   "source": [
    "#Q8. nWhat is the average amount claimed by the customers from various segments?"
   ]
  },
  {
   "cell_type": "code",
   "execution_count": 555,
   "id": "10eb5fe9",
   "metadata": {},
   "outputs": [
    {
     "data": {
      "text/html": [
       "<div>\n",
       "<style scoped>\n",
       "    .dataframe tbody tr th:only-of-type {\n",
       "        vertical-align: middle;\n",
       "    }\n",
       "\n",
       "    .dataframe tbody tr th {\n",
       "        vertical-align: top;\n",
       "    }\n",
       "\n",
       "    .dataframe thead th {\n",
       "        text-align: right;\n",
       "    }\n",
       "</style>\n",
       "<table border=\"1\" class=\"dataframe\">\n",
       "  <thead>\n",
       "    <tr style=\"text-align: right;\">\n",
       "      <th></th>\n",
       "      <th>Segment</th>\n",
       "      <th>claim_amount</th>\n",
       "    </tr>\n",
       "  </thead>\n",
       "  <tbody>\n",
       "    <tr>\n",
       "      <th>0</th>\n",
       "      <td>Gold</td>\n",
       "      <td>12829.631974</td>\n",
       "    </tr>\n",
       "    <tr>\n",
       "      <th>1</th>\n",
       "      <td>Platinum</td>\n",
       "      <td>12341.952267</td>\n",
       "    </tr>\n",
       "    <tr>\n",
       "      <th>2</th>\n",
       "      <td>Silver</td>\n",
       "      <td>12208.435570</td>\n",
       "    </tr>\n",
       "  </tbody>\n",
       "</table>\n",
       "</div>"
      ],
      "text/plain": [
       "    Segment  claim_amount\n",
       "0      Gold  12829.631974\n",
       "1  Platinum  12341.952267\n",
       "2    Silver  12208.435570"
      ]
     },
     "execution_count": 555,
     "metadata": {},
     "output_type": "execute_result"
    }
   ],
   "source": [
    "df = Cust_Claim.loc[:, [\"Segment\", \"claim_amount\"]].groupby(\"Segment\").claim_amount.mean().reset_index()\n",
    "df"
   ]
  },
  {
   "cell_type": "code",
   "execution_count": 556,
   "id": "ef9bcfdb",
   "metadata": {},
   "outputs": [
    {
     "data": {
      "text/html": [
       "<div>\n",
       "<style scoped>\n",
       "    .dataframe tbody tr th:only-of-type {\n",
       "        vertical-align: middle;\n",
       "    }\n",
       "\n",
       "    .dataframe tbody tr th {\n",
       "        vertical-align: top;\n",
       "    }\n",
       "\n",
       "    .dataframe thead th {\n",
       "        text-align: right;\n",
       "    }\n",
       "</style>\n",
       "<table border=\"1\" class=\"dataframe\">\n",
       "  <thead>\n",
       "    <tr style=\"text-align: right;\">\n",
       "      <th></th>\n",
       "      <th>Segment</th>\n",
       "      <th>Mean_Amount</th>\n",
       "    </tr>\n",
       "  </thead>\n",
       "  <tbody>\n",
       "    <tr>\n",
       "      <th>0</th>\n",
       "      <td>Gold</td>\n",
       "      <td>12829.631974</td>\n",
       "    </tr>\n",
       "    <tr>\n",
       "      <th>1</th>\n",
       "      <td>Platinum</td>\n",
       "      <td>12341.952267</td>\n",
       "    </tr>\n",
       "    <tr>\n",
       "      <th>2</th>\n",
       "      <td>Silver</td>\n",
       "      <td>12208.435570</td>\n",
       "    </tr>\n",
       "  </tbody>\n",
       "</table>\n",
       "</div>"
      ],
      "text/plain": [
       "    Segment   Mean_Amount\n",
       "0      Gold  12829.631974\n",
       "1  Platinum  12341.952267\n",
       "2    Silver  12208.435570"
      ]
     },
     "execution_count": 556,
     "metadata": {},
     "output_type": "execute_result"
    }
   ],
   "source": [
    "df = df.rename(columns = {\"claim_amount\":\"Mean_Amount\"})  \n",
    "df"
   ]
  },
  {
   "cell_type": "code",
   "execution_count": 557,
   "id": "6f7f0d79",
   "metadata": {},
   "outputs": [],
   "source": [
    "#Q9.what is the total claim amount based on incident cause for all the claims that have been done at least 20 days prior to 1st of october,2018."
   ]
  },
  {
   "cell_type": "code",
   "execution_count": 558,
   "id": "60ae2d46",
   "metadata": {},
   "outputs": [
    {
     "data": {
      "text/plain": [
       "324678.8627450981"
      ]
     },
     "execution_count": 558,
     "metadata": {},
     "output_type": "execute_result"
    }
   ],
   "source": [
    "c = pd.Timestamp(day = 1, month = 10, year = 2018)\n",
    "b = c + pd.DateOffset(days = -20)\n",
    "\n",
    "Cust_Claim.loc[(Cust_Claim[\"claim_date\"] <= c) & (Cust_Claim[\"claim_date\"] >=b), [\"claim_amount\"]].claim_amount.sum()"
   ]
  },
  {
   "cell_type": "code",
   "execution_count": 559,
   "id": "84be809e",
   "metadata": {},
   "outputs": [],
   "source": [
    "#Q10. How many adults from TX, DE and AK claimed insurence for driver related issues and causes?"
   ]
  },
  {
   "cell_type": "code",
   "execution_count": 560,
   "id": "c0433347",
   "metadata": {},
   "outputs": [
    {
     "data": {
      "text/plain": [
       "State\n",
       "AK     9\n",
       "DE    10\n",
       "TX     9\n",
       "Name: Age_cat, dtype: int64"
      ]
     },
     "execution_count": 560,
     "metadata": {},
     "output_type": "execute_result"
    }
   ],
   "source": [
    "df = Cust_Claim.loc[(Cust_Claim.State.isin([\"TX\", \"DE\", \"AK\"])) & (Cust_Claim.Age_cat==\"Adult\") & \n",
    "                    (Cust_Claim.incident_cause.isin([\"Driver error\", \"Other driver error\"])), \n",
    "                    [\"Age_cat\",\"State\",\"incident_cause\"]]\n",
    "df\n",
    "df.groupby(\"State\").Age_cat.count()"
   ]
  },
  {
   "cell_type": "code",
   "execution_count": 561,
   "id": "a6ff27fb",
   "metadata": {},
   "outputs": [],
   "source": [
    "#Q.11 Draw a pie chart between the aggregated value of claim amount based on gender and segment. \n",
    "#Present the claim amount as a percentage on the pie chart."
   ]
  },
  {
   "cell_type": "code",
   "execution_count": 562,
   "id": "723b7062",
   "metadata": {},
   "outputs": [
    {
     "data": {
      "image/png": "[encoded data removed]",
      "text/plain": [
       "<Figure size 432x288 with 2 Axes>"
      ]
     },
     "metadata": {},
     "output_type": "display_data"
    }
   ],
   "source": [
    "pivot_table = pd.pivot_table(Cust_Claim, index =['Segment'],columns ='gender',values ='claim_amount')\n",
    "\n",
    "\n",
    "pivot_table.plot(kind='pie', \n",
    "            labels=['Platinum','Silver','Gold'],\n",
    "            colors=['green', 'pink', 'blue'],\n",
    "            autopct='%.1f%%',\n",
    "            fontsize=13,\n",
    "            subplots='true', )\n",
    "\n",
    "\n",
    "plt.title('Pie Chart of Claim Amount based on Gender',fontsize=25)\n",
    "plt.axis('equal')\n",
    "plt.show()"
   ]
  },
  {
   "cell_type": "code",
   "execution_count": 563,
   "id": "1e4c535d",
   "metadata": {},
   "outputs": [],
   "source": [
    "#Q12.Among male and female which gender had claimed the most for any type of driver realted issues? \n",
    "#E.g. This matric can be compared using a bar char."
   ]
  },
  {
   "cell_type": "code",
   "execution_count": 564,
   "id": "36c280c9",
   "metadata": {},
   "outputs": [
    {
     "data": {
      "text/html": [
       "<div>\n",
       "<style scoped>\n",
       "    .dataframe tbody tr th:only-of-type {\n",
       "        vertical-align: middle;\n",
       "    }\n",
       "\n",
       "    .dataframe tbody tr th {\n",
       "        vertical-align: top;\n",
       "    }\n",
       "\n",
       "    .dataframe thead th {\n",
       "        text-align: right;\n",
       "    }\n",
       "</style>\n",
       "<table border=\"1\" class=\"dataframe\">\n",
       "  <thead>\n",
       "    <tr style=\"text-align: right;\">\n",
       "      <th></th>\n",
       "      <th>CUST_ID</th>\n",
       "      <th>gender</th>\n",
       "      <th>DateOfBirth</th>\n",
       "      <th>State</th>\n",
       "      <th>Contact</th>\n",
       "      <th>Segment</th>\n",
       "      <th>claim_id</th>\n",
       "      <th>customer_id</th>\n",
       "      <th>incident_cause</th>\n",
       "      <th>claim_date</th>\n",
       "      <th>claim_area</th>\n",
       "      <th>police_report</th>\n",
       "      <th>claim_type</th>\n",
       "      <th>claim_amount</th>\n",
       "      <th>total_policy_claims</th>\n",
       "      <th>fraudulent</th>\n",
       "      <th>Flag</th>\n",
       "      <th>Age</th>\n",
       "      <th>Age_cat</th>\n",
       "    </tr>\n",
       "  </thead>\n",
       "  <tbody>\n",
       "    <tr>\n",
       "      <th>0</th>\n",
       "      <td>21868593.0</td>\n",
       "      <td>Female</td>\n",
       "      <td>1979-01-12</td>\n",
       "      <td>VT</td>\n",
       "      <td>789-916-8172</td>\n",
       "      <td>Platinum</td>\n",
       "      <td>54004764.0</td>\n",
       "      <td>21868593.0</td>\n",
       "      <td>Driver error</td>\n",
       "      <td>2017-11-27</td>\n",
       "      <td>Auto</td>\n",
       "      <td>No</td>\n",
       "      <td>Material only</td>\n",
       "      <td>2980.0</td>\n",
       "      <td>1.0</td>\n",
       "      <td>No</td>\n",
       "      <td>1</td>\n",
       "      <td>42</td>\n",
       "      <td>Adult</td>\n",
       "    </tr>\n",
       "    <tr>\n",
       "      <th>1</th>\n",
       "      <td>75740424.0</td>\n",
       "      <td>Female</td>\n",
       "      <td>2070-01-13</td>\n",
       "      <td>ME</td>\n",
       "      <td>265-543-1264</td>\n",
       "      <td>Silver</td>\n",
       "      <td>33985796.0</td>\n",
       "      <td>75740424.0</td>\n",
       "      <td>Crime</td>\n",
       "      <td>2018-10-03</td>\n",
       "      <td>Home</td>\n",
       "      <td>Unknown</td>\n",
       "      <td>Material only</td>\n",
       "      <td>2980.0</td>\n",
       "      <td>3.0</td>\n",
       "      <td>No</td>\n",
       "      <td>0</td>\n",
       "      <td>51</td>\n",
       "      <td>Adult</td>\n",
       "    </tr>\n",
       "  </tbody>\n",
       "</table>\n",
       "</div>"
      ],
      "text/plain": [
       "      CUST_ID  gender DateOfBirth State       Contact   Segment    claim_id  \\\n",
       "0  21868593.0  Female  1979-01-12    VT  789-916-8172  Platinum  54004764.0   \n",
       "1  75740424.0  Female  2070-01-13    ME  265-543-1264    Silver  33985796.0   \n",
       "\n",
       "   customer_id incident_cause claim_date claim_area police_report  \\\n",
       "0   21868593.0   Driver error 2017-11-27       Auto            No   \n",
       "1   75740424.0          Crime 2018-10-03       Home       Unknown   \n",
       "\n",
       "      claim_type  claim_amount  total_policy_claims fraudulent  Flag  Age  \\\n",
       "0  Material only        2980.0                  1.0         No     1   42   \n",
       "1  Material only        2980.0                  3.0         No     0   51   \n",
       "\n",
       "  Age_cat  \n",
       "0   Adult  \n",
       "1   Adult  "
      ]
     },
     "execution_count": 564,
     "metadata": {},
     "output_type": "execute_result"
    }
   ],
   "source": [
    "Cust_Claim.head(2)"
   ]
  },
  {
   "cell_type": "code",
   "execution_count": 565,
   "id": "3736012a",
   "metadata": {},
   "outputs": [
    {
     "data": {
      "image/png": "[encoded data removed]",
      "text/plain": [
       "<Figure size 432x288 with 1 Axes>"
      ]
     },
     "metadata": {
      "needs_background": "light"
     },
     "output_type": "display_data"
    }
   ],
   "source": [
    "df = Cust_Claim.loc[Cust_Claim.incident_cause.isin([\"Driver error\", \"Other driver error\"]),[\"gender\",\"incident_cause\"]]\n",
    "df\n",
    "df.groupby([\"gender\", \"incident_cause\"]).incident_cause.count().plot(kind = \"barh\")\n",
    "plt.show()"
   ]
  },
  {
   "cell_type": "code",
   "execution_count": 566,
   "id": "690a230d",
   "metadata": {},
   "outputs": [],
   "source": [
    "#Q13. Which age group had the maximum fraudulent policy claims? Visualize it on bar graph."
   ]
  },
  {
   "cell_type": "code",
   "execution_count": 567,
   "id": "615d6de9",
   "metadata": {},
   "outputs": [
    {
     "data": {
      "text/html": [
       "<div>\n",
       "<style scoped>\n",
       "    .dataframe tbody tr th:only-of-type {\n",
       "        vertical-align: middle;\n",
       "    }\n",
       "\n",
       "    .dataframe tbody tr th {\n",
       "        vertical-align: top;\n",
       "    }\n",
       "\n",
       "    .dataframe thead th {\n",
       "        text-align: right;\n",
       "    }\n",
       "</style>\n",
       "<table border=\"1\" class=\"dataframe\">\n",
       "  <thead>\n",
       "    <tr style=\"text-align: right;\">\n",
       "      <th></th>\n",
       "      <th>CUST_ID</th>\n",
       "      <th>gender</th>\n",
       "      <th>DateOfBirth</th>\n",
       "      <th>State</th>\n",
       "      <th>Contact</th>\n",
       "      <th>Segment</th>\n",
       "      <th>claim_id</th>\n",
       "      <th>customer_id</th>\n",
       "      <th>incident_cause</th>\n",
       "      <th>claim_date</th>\n",
       "      <th>claim_area</th>\n",
       "      <th>police_report</th>\n",
       "      <th>claim_type</th>\n",
       "      <th>claim_amount</th>\n",
       "      <th>total_policy_claims</th>\n",
       "      <th>fraudulent</th>\n",
       "      <th>Flag</th>\n",
       "      <th>Age</th>\n",
       "      <th>Age_cat</th>\n",
       "    </tr>\n",
       "  </thead>\n",
       "  <tbody>\n",
       "    <tr>\n",
       "      <th>0</th>\n",
       "      <td>21868593.0</td>\n",
       "      <td>Female</td>\n",
       "      <td>1979-01-12</td>\n",
       "      <td>VT</td>\n",
       "      <td>789-916-8172</td>\n",
       "      <td>Platinum</td>\n",
       "      <td>54004764.0</td>\n",
       "      <td>21868593.0</td>\n",
       "      <td>Driver error</td>\n",
       "      <td>2017-11-27</td>\n",
       "      <td>Auto</td>\n",
       "      <td>No</td>\n",
       "      <td>Material only</td>\n",
       "      <td>2980.0</td>\n",
       "      <td>1.0</td>\n",
       "      <td>No</td>\n",
       "      <td>1</td>\n",
       "      <td>42</td>\n",
       "      <td>Adult</td>\n",
       "    </tr>\n",
       "    <tr>\n",
       "      <th>1</th>\n",
       "      <td>75740424.0</td>\n",
       "      <td>Female</td>\n",
       "      <td>2070-01-13</td>\n",
       "      <td>ME</td>\n",
       "      <td>265-543-1264</td>\n",
       "      <td>Silver</td>\n",
       "      <td>33985796.0</td>\n",
       "      <td>75740424.0</td>\n",
       "      <td>Crime</td>\n",
       "      <td>2018-10-03</td>\n",
       "      <td>Home</td>\n",
       "      <td>Unknown</td>\n",
       "      <td>Material only</td>\n",
       "      <td>2980.0</td>\n",
       "      <td>3.0</td>\n",
       "      <td>No</td>\n",
       "      <td>0</td>\n",
       "      <td>51</td>\n",
       "      <td>Adult</td>\n",
       "    </tr>\n",
       "  </tbody>\n",
       "</table>\n",
       "</div>"
      ],
      "text/plain": [
       "      CUST_ID  gender DateOfBirth State       Contact   Segment    claim_id  \\\n",
       "0  21868593.0  Female  1979-01-12    VT  789-916-8172  Platinum  54004764.0   \n",
       "1  75740424.0  Female  2070-01-13    ME  265-543-1264    Silver  33985796.0   \n",
       "\n",
       "   customer_id incident_cause claim_date claim_area police_report  \\\n",
       "0   21868593.0   Driver error 2017-11-27       Auto            No   \n",
       "1   75740424.0          Crime 2018-10-03       Home       Unknown   \n",
       "\n",
       "      claim_type  claim_amount  total_policy_claims fraudulent  Flag  Age  \\\n",
       "0  Material only        2980.0                  1.0         No     1   42   \n",
       "1  Material only        2980.0                  3.0         No     0   51   \n",
       "\n",
       "  Age_cat  \n",
       "0   Adult  \n",
       "1   Adult  "
      ]
     },
     "execution_count": 567,
     "metadata": {},
     "output_type": "execute_result"
    }
   ],
   "source": [
    "Cust_Claim.head(2)"
   ]
  },
  {
   "cell_type": "code",
   "execution_count": 568,
   "id": "1809a719",
   "metadata": {},
   "outputs": [
    {
     "data": {
      "image/png": "[encoded data removed]",
      "text/plain": [
       "<Figure size 432x288 with 1 Axes>"
      ]
     },
     "metadata": {
      "needs_background": "light"
     },
     "output_type": "display_data"
    }
   ],
   "source": [
    "df = Cust_Claim.loc[Cust_Claim.fraudulent==\"Yes\", [\"Age_cat\", \"fraudulent\", \"total_policy_claims\"]].groupby(\"Age_cat\").total_policy_claims.sum().reset_index()\n",
    "df.plot.bar(x = \"Age_cat\")\n",
    "plt.show()"
   ]
  },
  {
   "cell_type": "code",
   "execution_count": 569,
   "id": "6cb73856",
   "metadata": {},
   "outputs": [],
   "source": [
    "#Q14.Visualize the monthly trend of the total amount that has been claimed by the customers.\n",
    "#Ensure that on the \"month\" axis, the month is in a chronological order not alphabetical order."
   ]
  },
  {
   "cell_type": "code",
   "execution_count": 570,
   "id": "e8c8cfcd",
   "metadata": {},
   "outputs": [
    {
     "data": {
      "text/html": [
       "<div>\n",
       "<style scoped>\n",
       "    .dataframe tbody tr th:only-of-type {\n",
       "        vertical-align: middle;\n",
       "    }\n",
       "\n",
       "    .dataframe tbody tr th {\n",
       "        vertical-align: top;\n",
       "    }\n",
       "\n",
       "    .dataframe thead th {\n",
       "        text-align: right;\n",
       "    }\n",
       "</style>\n",
       "<table border=\"1\" class=\"dataframe\">\n",
       "  <thead>\n",
       "    <tr style=\"text-align: right;\">\n",
       "      <th></th>\n",
       "      <th>CUST_ID</th>\n",
       "      <th>gender</th>\n",
       "      <th>DateOfBirth</th>\n",
       "      <th>State</th>\n",
       "      <th>Contact</th>\n",
       "      <th>Segment</th>\n",
       "      <th>claim_id</th>\n",
       "      <th>customer_id</th>\n",
       "      <th>incident_cause</th>\n",
       "      <th>claim_date</th>\n",
       "      <th>claim_area</th>\n",
       "      <th>police_report</th>\n",
       "      <th>claim_type</th>\n",
       "      <th>claim_amount</th>\n",
       "      <th>total_policy_claims</th>\n",
       "      <th>fraudulent</th>\n",
       "      <th>Flag</th>\n",
       "      <th>Age</th>\n",
       "      <th>Age_cat</th>\n",
       "      <th>claim_date_month</th>\n",
       "    </tr>\n",
       "  </thead>\n",
       "  <tbody>\n",
       "    <tr>\n",
       "      <th>0</th>\n",
       "      <td>21868593.0</td>\n",
       "      <td>Female</td>\n",
       "      <td>1979-01-12</td>\n",
       "      <td>VT</td>\n",
       "      <td>789-916-8172</td>\n",
       "      <td>Platinum</td>\n",
       "      <td>54004764.0</td>\n",
       "      <td>21868593.0</td>\n",
       "      <td>Driver error</td>\n",
       "      <td>2017-11-27</td>\n",
       "      <td>Auto</td>\n",
       "      <td>No</td>\n",
       "      <td>Material only</td>\n",
       "      <td>2980.0</td>\n",
       "      <td>1.0</td>\n",
       "      <td>No</td>\n",
       "      <td>1</td>\n",
       "      <td>42</td>\n",
       "      <td>Adult</td>\n",
       "      <td>11</td>\n",
       "    </tr>\n",
       "    <tr>\n",
       "      <th>1</th>\n",
       "      <td>75740424.0</td>\n",
       "      <td>Female</td>\n",
       "      <td>2070-01-13</td>\n",
       "      <td>ME</td>\n",
       "      <td>265-543-1264</td>\n",
       "      <td>Silver</td>\n",
       "      <td>33985796.0</td>\n",
       "      <td>75740424.0</td>\n",
       "      <td>Crime</td>\n",
       "      <td>2018-10-03</td>\n",
       "      <td>Home</td>\n",
       "      <td>Unknown</td>\n",
       "      <td>Material only</td>\n",
       "      <td>2980.0</td>\n",
       "      <td>3.0</td>\n",
       "      <td>No</td>\n",
       "      <td>0</td>\n",
       "      <td>51</td>\n",
       "      <td>Adult</td>\n",
       "      <td>10</td>\n",
       "    </tr>\n",
       "  </tbody>\n",
       "</table>\n",
       "</div>"
      ],
      "text/plain": [
       "      CUST_ID  gender DateOfBirth State       Contact   Segment    claim_id  \\\n",
       "0  21868593.0  Female  1979-01-12    VT  789-916-8172  Platinum  54004764.0   \n",
       "1  75740424.0  Female  2070-01-13    ME  265-543-1264    Silver  33985796.0   \n",
       "\n",
       "   customer_id incident_cause claim_date claim_area police_report  \\\n",
       "0   21868593.0   Driver error 2017-11-27       Auto            No   \n",
       "1   75740424.0          Crime 2018-10-03       Home       Unknown   \n",
       "\n",
       "      claim_type  claim_amount  total_policy_claims fraudulent  Flag  Age  \\\n",
       "0  Material only        2980.0                  1.0         No     1   42   \n",
       "1  Material only        2980.0                  3.0         No     0   51   \n",
       "\n",
       "  Age_cat  claim_date_month  \n",
       "0   Adult                11  \n",
       "1   Adult                10  "
      ]
     },
     "execution_count": 570,
     "metadata": {},
     "output_type": "execute_result"
    }
   ],
   "source": [
    "#Create new column \"claim_date_month\" for month\n",
    "Cust_Claim[\"claim_date_month\"] = Cust_Claim[\"claim_date\"].dt.month\n",
    "Cust_Claim.head(2)"
   ]
  },
  {
   "cell_type": "code",
   "execution_count": 571,
   "id": "27de481c",
   "metadata": {},
   "outputs": [
    {
     "data": {
      "text/html": [
       "<div>\n",
       "<style scoped>\n",
       "    .dataframe tbody tr th:only-of-type {\n",
       "        vertical-align: middle;\n",
       "    }\n",
       "\n",
       "    .dataframe tbody tr th {\n",
       "        vertical-align: top;\n",
       "    }\n",
       "\n",
       "    .dataframe thead th {\n",
       "        text-align: right;\n",
       "    }\n",
       "</style>\n",
       "<table border=\"1\" class=\"dataframe\">\n",
       "  <thead>\n",
       "    <tr style=\"text-align: right;\">\n",
       "      <th></th>\n",
       "      <th>claim_date_month</th>\n",
       "      <th>claim_amount</th>\n",
       "    </tr>\n",
       "  </thead>\n",
       "  <tbody>\n",
       "    <tr>\n",
       "      <th>0</th>\n",
       "      <td>1</td>\n",
       "      <td>1.331992e+06</td>\n",
       "    </tr>\n",
       "    <tr>\n",
       "      <th>1</th>\n",
       "      <td>2</td>\n",
       "      <td>1.169906e+06</td>\n",
       "    </tr>\n",
       "    <tr>\n",
       "      <th>2</th>\n",
       "      <td>3</td>\n",
       "      <td>1.320080e+06</td>\n",
       "    </tr>\n",
       "    <tr>\n",
       "      <th>3</th>\n",
       "      <td>4</td>\n",
       "      <td>1.293886e+06</td>\n",
       "    </tr>\n",
       "    <tr>\n",
       "      <th>4</th>\n",
       "      <td>5</td>\n",
       "      <td>1.114189e+06</td>\n",
       "    </tr>\n",
       "  </tbody>\n",
       "</table>\n",
       "</div>"
      ],
      "text/plain": [
       "   claim_date_month  claim_amount\n",
       "0                 1  1.331992e+06\n",
       "1                 2  1.169906e+06\n",
       "2                 3  1.320080e+06\n",
       "3                 4  1.293886e+06\n",
       "4                 5  1.114189e+06"
      ]
     },
     "execution_count": 571,
     "metadata": {},
     "output_type": "execute_result"
    }
   ],
   "source": [
    "data = Cust_Claim.loc[:, [\"claim_date_month\", \"claim_amount\"]].groupby(\"claim_date_month\").claim_amount.sum().reset_index()\n",
    "data.head()"
   ]
  },
  {
   "cell_type": "code",
   "execution_count": 572,
   "id": "840135d1",
   "metadata": {},
   "outputs": [
    {
     "data": {
      "image/png": "[encoded data removed]",
      "text/plain": [
       "<Figure size 432x288 with 1 Axes>"
      ]
     },
     "metadata": {
      "needs_background": "light"
     },
     "output_type": "display_data"
    }
   ],
   "source": [
    "data.plot.bar(x=\"claim_date_month\", y=\"claim_amount\")\n",
    "plt.show()"
   ]
  },
  {
   "cell_type": "code",
   "execution_count": 573,
   "id": "e4bf800a",
   "metadata": {},
   "outputs": [],
   "source": [
    "#Q15. What is the average claim amount for gender and age categories and suitable represent the above using a facetted bar chat,\n",
    "#one facet that represents fraudulent claims and the other for non-fradulent claims."
   ]
  },
  {
   "cell_type": "code",
   "execution_count": 574,
   "id": "2f8de3ab",
   "metadata": {},
   "outputs": [
    {
     "data": {
      "image/png": "[encoded data removed]",
      "text/plain": [
       "<Figure size 492.25x216 with 2 Axes>"
      ]
     },
     "metadata": {
      "needs_background": "light"
     },
     "output_type": "display_data"
    }
   ],
   "source": [
    "data = Cust_Claim.loc[:, [\"gender\", \"fraudulent\", \"claim_amount\", \"Age_cat\"]].groupby([\"fraudulent\", \"gender\", \"Age_cat\"]).claim_amount.mean().reset_index()\n",
    "data\n",
    "graph = sns.FacetGrid(data, col = \"gender\", hue = \"fraudulent\")\n",
    "\n",
    "graph.map(plt.bar, \"Age_cat\", \"claim_amount\", edgecolor =\"w\").add_legend()\n",
    "\n",
    "plt.show()"
   ]
  },
  {
   "cell_type": "code",
   "execution_count": 575,
   "id": "5afc3ae8",
   "metadata": {},
   "outputs": [],
   "source": [
    "#Based on the conclusions from exploratory analysis as well as suitable statistical tests, answer the below questions.\n",
    "#Please include a detailed write-up on the parameters taken into consideration, \n",
    "#the hypothesis testing steps, conclusion from the P-values and the business implications of the statement"
   ]
  },
  {
   "cell_type": "code",
   "execution_count": 576,
   "id": "efec3609",
   "metadata": {},
   "outputs": [
    {
     "data": {
      "text/plain": [
       "529"
      ]
     },
     "execution_count": 576,
     "metadata": {},
     "output_type": "execute_result"
    }
   ],
   "source": [
    "#Q16. Is there any similarity in the amount claimed by males and females?\n",
    "sample_female = Cust_Claim.loc[Cust_Claim.gender==\"Female\", [\"gender\", \"claim_amount\"]]\n",
    "sample_female.shape[0]"
   ]
  },
  {
   "cell_type": "code",
   "execution_count": 577,
   "id": "af46c48e",
   "metadata": {},
   "outputs": [
    {
     "data": {
      "text/plain": [
       "556"
      ]
     },
     "execution_count": 577,
     "metadata": {},
     "output_type": "execute_result"
    }
   ],
   "source": [
    "sample_male = Cust_Claim.loc[Cust_Claim.gender==\"Male\", [\"gender\", \"claim_amount\"]]\n",
    "sample_male.shape[0]"
   ]
  },
  {
   "cell_type": "code",
   "execution_count": 578,
   "id": "3a95c3b9",
   "metadata": {},
   "outputs": [
    {
     "data": {
      "text/plain": [
       "Ttest_indResult(statistic=-0.9738138415066818, pvalue=0.33036643165116597)"
      ]
     },
     "execution_count": 578,
     "metadata": {},
     "output_type": "execute_result"
    }
   ],
   "source": [
    "#Formulation of Hypothesis:\n",
    "#Null Hypothesis: H0:u1 = u2\n",
    "#Alternative Hypothesis: Ha: Ha:u1 <> u2  (Two-Tailed)\n",
    "\n",
    "#Apply independent or unpaired 't'-test for testing the claim under the hypothesis.\n",
    "stats.ttest_ind(sample_female[\"claim_amount\"], sample_male[\"claim_amount\"])"
   ]
  },
  {
   "cell_type": "code",
   "execution_count": 579,
   "id": "86eb6735",
   "metadata": {},
   "outputs": [],
   "source": [
    "# 't'-test statistic = -0.97381  (approx.)\n",
    "# P-value = 0.3304 (approx.)\n",
    "# Level of significance = 0.05\n",
    "\n",
    "## Conclusion: ##\n",
    "# The P-value is greater as compared to the 5% level of significance. We fail to reject the null hypothesis. \n",
    "# We can conlude that there is no differnce between the mean anount of claim_amount for male and female. \n",
    "# Therefore, there is similarity in the amount claimed by males and females."
   ]
  },
  {
   "cell_type": "code",
   "execution_count": 580,
   "id": "63c921c0",
   "metadata": {},
   "outputs": [],
   "source": [
    "#Q17. Is there any relations b/w age category and segment?"
   ]
  },
  {
   "cell_type": "code",
   "execution_count": 581,
   "id": "d5162a37",
   "metadata": {},
   "outputs": [
    {
     "data": {
      "text/html": [
       "<div>\n",
       "<style scoped>\n",
       "    .dataframe tbody tr th:only-of-type {\n",
       "        vertical-align: middle;\n",
       "    }\n",
       "\n",
       "    .dataframe tbody tr th {\n",
       "        vertical-align: top;\n",
       "    }\n",
       "\n",
       "    .dataframe thead th {\n",
       "        text-align: right;\n",
       "    }\n",
       "</style>\n",
       "<table border=\"1\" class=\"dataframe\">\n",
       "  <thead>\n",
       "    <tr style=\"text-align: right;\">\n",
       "      <th>Segment</th>\n",
       "      <th>Gold</th>\n",
       "      <th>Platinum</th>\n",
       "      <th>Silver</th>\n",
       "      <th>All</th>\n",
       "    </tr>\n",
       "    <tr>\n",
       "      <th>Age_cat</th>\n",
       "      <th></th>\n",
       "      <th></th>\n",
       "      <th></th>\n",
       "      <th></th>\n",
       "    </tr>\n",
       "  </thead>\n",
       "  <tbody>\n",
       "    <tr>\n",
       "      <th>Adult</th>\n",
       "      <td>279</td>\n",
       "      <td>257</td>\n",
       "      <td>246</td>\n",
       "      <td>782</td>\n",
       "    </tr>\n",
       "    <tr>\n",
       "      <th>Senior</th>\n",
       "      <td>22</td>\n",
       "      <td>26</td>\n",
       "      <td>24</td>\n",
       "      <td>72</td>\n",
       "    </tr>\n",
       "    <tr>\n",
       "      <th>Youth</th>\n",
       "      <td>74</td>\n",
       "      <td>79</td>\n",
       "      <td>78</td>\n",
       "      <td>231</td>\n",
       "    </tr>\n",
       "    <tr>\n",
       "      <th>All</th>\n",
       "      <td>375</td>\n",
       "      <td>362</td>\n",
       "      <td>348</td>\n",
       "      <td>1085</td>\n",
       "    </tr>\n",
       "  </tbody>\n",
       "</table>\n",
       "</div>"
      ],
      "text/plain": [
       "Segment  Gold  Platinum  Silver   All\n",
       "Age_cat                              \n",
       "Adult     279       257     246   782\n",
       "Senior     22        26      24    72\n",
       "Youth      74        79      78   231\n",
       "All       375       362     348  1085"
      ]
     },
     "execution_count": 581,
     "metadata": {},
     "output_type": "execute_result"
    }
   ],
   "source": [
    "Age_cat_seg = pd.crosstab(index = Cust_Claim[\"Age_cat\"], columns = Cust_Claim[\"Segment\"], margins = True)\n",
    "Age_cat_seg"
   ]
  },
  {
   "cell_type": "code",
   "execution_count": 582,
   "id": "4d4ae7df",
   "metadata": {},
   "outputs": [
    {
     "data": {
      "text/plain": [
       "(1.647034896525732,\n",
       " 0.9959019216608677,\n",
       " 9,\n",
       " array([[ 270.2764977 ,  260.90691244,  250.81658986,  782.        ],\n",
       "        [  24.88479263,   24.02211982,   23.09308756,   72.        ],\n",
       "        [  79.83870968,   77.07096774,   74.09032258,  231.        ],\n",
       "        [ 375.        ,  362.        ,  348.        , 1085.        ]]))"
      ]
     },
     "execution_count": 582,
     "metadata": {},
     "output_type": "execute_result"
    }
   ],
   "source": [
    "# Formulation of Hypothesis:\n",
    "# Null Hypothesis:There is no relationship between age category and Segment\n",
    "# Alternative Hypothesis: There is a relationship between age category and Segment\n",
    "\n",
    "#Applyig Chi-square test of independence\n",
    "stats.chi2_contingency( Age_cat_seg )"
   ]
  },
  {
   "cell_type": "code",
   "execution_count": 583,
   "id": "766ae2a7",
   "metadata": {},
   "outputs": [],
   "source": [
    "# Chi-square statistic = 1.647 (approx.)\n",
    "# P-value = 0.9959 (approx.)\n",
    "# Degree of freedom = 9\n",
    "# Level of significance = 0.05\n",
    "\n",
    "## Conclusion: ##\n",
    "# The P-value is greater than the 5% level of significance. We fail to reject the null hypothesis. \n",
    "# We have no enough evidence that the age category and Segment variables are associated or dependent of each other."
   ]
  },
  {
   "cell_type": "code",
   "execution_count": 584,
   "id": "ed56e8ea",
   "metadata": {},
   "outputs": [],
   "source": [
    "#Q18. The current year has shown a significant rise in claim amount as compared to 2016-2017 fiscal average which was $10,0000."
   ]
  },
  {
   "cell_type": "code",
   "execution_count": 585,
   "id": "f3814725",
   "metadata": {},
   "outputs": [
    {
     "data": {
      "text/html": [
       "<div>\n",
       "<style scoped>\n",
       "    .dataframe tbody tr th:only-of-type {\n",
       "        vertical-align: middle;\n",
       "    }\n",
       "\n",
       "    .dataframe tbody tr th {\n",
       "        vertical-align: top;\n",
       "    }\n",
       "\n",
       "    .dataframe thead th {\n",
       "        text-align: right;\n",
       "    }\n",
       "</style>\n",
       "<table border=\"1\" class=\"dataframe\">\n",
       "  <thead>\n",
       "    <tr style=\"text-align: right;\">\n",
       "      <th></th>\n",
       "      <th>claim_amount</th>\n",
       "      <th>Year_claim_date</th>\n",
       "    </tr>\n",
       "  </thead>\n",
       "  <tbody>\n",
       "    <tr>\n",
       "      <th>0</th>\n",
       "      <td>2980.0</td>\n",
       "      <td>2017</td>\n",
       "    </tr>\n",
       "    <tr>\n",
       "      <th>5</th>\n",
       "      <td>1440.0</td>\n",
       "      <td>2017</td>\n",
       "    </tr>\n",
       "  </tbody>\n",
       "</table>\n",
       "</div>"
      ],
      "text/plain": [
       "   claim_amount  Year_claim_date\n",
       "0        2980.0             2017\n",
       "5        1440.0             2017"
      ]
     },
     "execution_count": 585,
     "metadata": {},
     "output_type": "execute_result"
    }
   ],
   "source": [
    "#Adding new column \"year_claim_date\"\n",
    "Cust_Claim[\"Year_claim_date\"] = Cust_Claim[\"claim_date\"].dt.year\n",
    "\n",
    "sample = Cust_Claim.loc[Cust_Claim[\"Year_claim_date\"]==2017, [\"claim_amount\", \"Year_claim_date\"]]\n",
    "sample.head(2)"
   ]
  },
  {
   "cell_type": "code",
   "execution_count": 586,
   "id": "7ebd4292",
   "metadata": {},
   "outputs": [
    {
     "data": {
      "text/plain": [
       "Ttest_1sampResult(statistic=4.195278754700451, pvalue=1.5697593691366917e-05)"
      ]
     },
     "execution_count": 586,
     "metadata": {},
     "output_type": "execute_result"
    }
   ],
   "source": [
    "# Formulation of Hypothesis:\n",
    "# Null Hypothesis:H0:u <= $10,000\n",
    "# Alternative Hypothesis: Ha:u > $10,000\n",
    "\n",
    "# One sample 't'-test\n",
    "stats.ttest_1samp(sample.claim_amount, popmean=10000, alternative = \"greater\")"
   ]
  },
  {
   "cell_type": "code",
   "execution_count": 587,
   "id": "84f918a5",
   "metadata": {},
   "outputs": [],
   "source": [
    "# 't'-test statistic = 4.195 (approx.)\n",
    "# P-value = 0.000 (approx.)\n",
    "# Level of significance = 0.05\n",
    "\n",
    "## Conclusion: ##\n",
    "# The P-value is less than the 5% level of significance. We reject the null hypothesis. \n",
    "# We have enough evidence that there is significant rise in claim amount as compared to 2016-2017 fiscal average which was $10,0000."
   ]
  },
  {
   "cell_type": "code",
   "execution_count": 588,
   "id": "c7f2d78d",
   "metadata": {},
   "outputs": [],
   "source": [
    "#Q19. Is there any difference b/w age groups and insurance claims ?"
   ]
  },
  {
   "cell_type": "code",
   "execution_count": 589,
   "id": "fde0def6",
   "metadata": {},
   "outputs": [
    {
     "data": {
      "text/html": [
       "<div>\n",
       "<style scoped>\n",
       "    .dataframe tbody tr th:only-of-type {\n",
       "        vertical-align: middle;\n",
       "    }\n",
       "\n",
       "    .dataframe tbody tr th {\n",
       "        vertical-align: top;\n",
       "    }\n",
       "\n",
       "    .dataframe thead th {\n",
       "        text-align: right;\n",
       "    }\n",
       "</style>\n",
       "<table border=\"1\" class=\"dataframe\">\n",
       "  <thead>\n",
       "    <tr style=\"text-align: right;\">\n",
       "      <th>total_policy_claims</th>\n",
       "      <th>1.0</th>\n",
       "      <th>2.0</th>\n",
       "      <th>3.0</th>\n",
       "      <th>4.0</th>\n",
       "      <th>5.0</th>\n",
       "      <th>6.0</th>\n",
       "      <th>7.0</th>\n",
       "      <th>8.0</th>\n",
       "    </tr>\n",
       "    <tr>\n",
       "      <th>Age_cat</th>\n",
       "      <th></th>\n",
       "      <th></th>\n",
       "      <th></th>\n",
       "      <th></th>\n",
       "      <th></th>\n",
       "      <th></th>\n",
       "      <th></th>\n",
       "      <th></th>\n",
       "    </tr>\n",
       "  </thead>\n",
       "  <tbody>\n",
       "    <tr>\n",
       "      <th>Adult</th>\n",
       "      <td>567</td>\n",
       "      <td>79</td>\n",
       "      <td>65</td>\n",
       "      <td>42</td>\n",
       "      <td>15</td>\n",
       "      <td>6</td>\n",
       "      <td>1</td>\n",
       "      <td>0</td>\n",
       "    </tr>\n",
       "    <tr>\n",
       "      <th>Senior</th>\n",
       "      <td>52</td>\n",
       "      <td>7</td>\n",
       "      <td>4</td>\n",
       "      <td>4</td>\n",
       "      <td>3</td>\n",
       "      <td>1</td>\n",
       "      <td>0</td>\n",
       "      <td>0</td>\n",
       "    </tr>\n",
       "    <tr>\n",
       "      <th>Youth</th>\n",
       "      <td>166</td>\n",
       "      <td>19</td>\n",
       "      <td>17</td>\n",
       "      <td>13</td>\n",
       "      <td>9</td>\n",
       "      <td>3</td>\n",
       "      <td>1</td>\n",
       "      <td>1</td>\n",
       "    </tr>\n",
       "  </tbody>\n",
       "</table>\n",
       "</div>"
      ],
      "text/plain": [
       "total_policy_claims  1.0  2.0  3.0  4.0  5.0  6.0  7.0  8.0\n",
       "Age_cat                                                    \n",
       "Adult                567   79   65   42   15    6    1    0\n",
       "Senior                52    7    4    4    3    1    0    0\n",
       "Youth                166   19   17   13    9    3    1    1"
      ]
     },
     "execution_count": 589,
     "metadata": {},
     "output_type": "execute_result"
    }
   ],
   "source": [
    "table = pd.crosstab(index = Cust_Claim[\"Age_cat\"], columns = Cust_Claim[\"total_policy_claims\"])\n",
    "table"
   ]
  },
  {
   "cell_type": "code",
   "execution_count": 590,
   "id": "604bd6f8",
   "metadata": {},
   "outputs": [
    {
     "data": {
      "text/plain": [
       "(10.581144446973257,\n",
       " 0.718581564809819,\n",
       " 14,\n",
       " array([[5.65930233e+02, 7.56976744e+01, 6.20000000e+01, 4.25348837e+01,\n",
       "         1.94651163e+01, 7.20930233e+00, 1.44186047e+00, 7.20930233e-01],\n",
       "        [5.18465116e+01, 6.93488372e+00, 5.68000000e+00, 3.89674419e+00,\n",
       "         1.78325581e+00, 6.60465116e-01, 1.32093023e-01, 6.60465116e-02],\n",
       "        [1.67223256e+02, 2.23674419e+01, 1.83200000e+01, 1.25683721e+01,\n",
       "         5.75162791e+00, 2.13023256e+00, 4.26046512e-01, 2.13023256e-01]]))"
      ]
     },
     "execution_count": 590,
     "metadata": {},
     "output_type": "execute_result"
    }
   ],
   "source": [
    "# Formulation of Hypothesis:\n",
    "# Null Hypothesis:There is no relationship between age category and total_policy_claims\n",
    "# Alternative Hypothesis: There is a relationship between age category and total_policy_claims\n",
    "\n",
    "#Applyig Chi-square test of independence\n",
    "stats.chi2_contingency( table )"
   ]
  },
  {
   "cell_type": "code",
   "execution_count": 591,
   "id": "f8ab4ce3",
   "metadata": {},
   "outputs": [],
   "source": [
    "# Chi-square statistic = 10.58 (approx.)\n",
    "# P-value = 0.7186 (approx.)\n",
    "# Degree of freedom = 14\n",
    "# Level of significance = 0.05\n",
    "\n",
    "## Conclusion: ##\n",
    "# The P-value is greater than the 5% level of significance. We fail to reject the null hypothesis. \n",
    "# We have no enough evidence that the age category and total_policy_claims variables are associated or dependent of each other."
   ]
  },
  {
   "cell_type": "code",
   "execution_count": 592,
   "id": "8340e566",
   "metadata": {},
   "outputs": [],
   "source": [
    "#Q20. Is there any relationship b/w total no. of policy claims and the claimed amount?"
   ]
  },
  {
   "cell_type": "code",
   "execution_count": 595,
   "id": "d2933dd2",
   "metadata": {},
   "outputs": [
    {
     "data": {
      "text/plain": [
       "3     1950.0\n",
       "81    1680.0\n",
       "Name: claim_amount, dtype: float64"
      ]
     },
     "execution_count": 595,
     "metadata": {},
     "output_type": "execute_result"
    }
   ],
   "source": [
    "policy_claim_1 = Cust_Claim.loc[Cust_Claim.total_policy_claims==1, \"claim_amount\"]\n",
    "policy_claim_1.head(2)\n",
    "\n",
    "policy_claim_2 = Cust_Claim.loc[Cust_Claim.total_policy_claims==2, \"claim_amount\"]\n",
    "policy_claim_2.head(2)\n",
    "\n",
    "policy_claim_3 = Cust_Claim.loc[Cust_Claim.total_policy_claims==3, \"claim_amount\"]\n",
    "policy_claim_3.head(2)\n",
    "\n",
    "policy_claim_4 = Cust_Claim.loc[Cust_Claim.total_policy_claims==4, \"claim_amount\"]\n",
    "policy_claim_4.head(2)\n",
    "\n",
    "policy_claim_5 = Cust_Claim.loc[Cust_Claim.total_policy_claims==5, \"claim_amount\"]\n",
    "policy_claim_5.head(2)\n",
    "\n",
    "policy_claim_6 = Cust_Claim.loc[Cust_Claim.total_policy_claims==6, \"claim_amount\"]\n",
    "policy_claim_6.head(2)\n"
   ]
  },
  {
   "cell_type": "code",
   "execution_count": 596,
   "id": "5e33ed3f",
   "metadata": {},
   "outputs": [
    {
     "data": {
      "text/plain": [
       "F_onewayResult(statistic=0.9298502519786692, pvalue=0.33516436072827394)"
      ]
     },
     "execution_count": 596,
     "metadata": {},
     "output_type": "execute_result"
    }
   ],
   "source": [
    "# Formulation of Hypothesis:\n",
    "# Null Hypothesis: H0: u1 = u2 = ... = u6\n",
    "# Alternative Hypothesis: Ha: At least one mean is different from others.\n",
    "\n",
    "#Applying ANOVA test for test the hypothesis.\n",
    "stats.f_oneway(policy_claim_1, policy_claim_2)"
   ]
  },
  {
   "cell_type": "code",
   "execution_count": null,
   "id": "e69ccede",
   "metadata": {},
   "outputs": [],
   "source": [
    "# F-test statistic = 0.92985 (approx.)\n",
    "# P-value = 0.3352 (approx.) \n",
    "# Level of significance = 0.05\n",
    "\n",
    "## Conclusion ##\n",
    "# The P-value is greater than the 5% level of significance. We fail to reject the null hypothesis. \n",
    "# We can conclude that there is no difference between the mean claim_amount of total_policy_claims"
   ]
  },
  {
   "cell_type": "code",
   "execution_count": null,
   "id": "46d8b1fb",
   "metadata": {},
   "outputs": [],
   "source": []
  },
  {
   "cell_type": "code",
   "execution_count": null,
   "id": "bd2aba65",
   "metadata": {},
   "outputs": [],
   "source": []
  },
  {
   "cell_type": "code",
   "execution_count": null,
   "id": "5ae5ed0b",
   "metadata": {},
   "outputs": [],
   "source": []
  },
  {
   "cell_type": "code",
   "execution_count": null,
   "id": "3048b08d",
   "metadata": {},
   "outputs": [],
   "source": []
  },
  {
   "cell_type": "code",
   "execution_count": null,
   "id": "d712482e",
   "metadata": {},
   "outputs": [],
   "source": []
  },
  {
   "cell_type": "code",
   "execution_count": null,
   "id": "684d7046",
   "metadata": {},
   "outputs": [],
   "source": []
  },
  {
   "cell_type": "code",
   "execution_count": null,
   "id": "355d84de",
   "metadata": {},
   "outputs": [],
   "source": []
  },
  {
   "cell_type": "code",
   "execution_count": null,
   "id": "0ec9d2c8",
   "metadata": {},
   "outputs": [],
   "source": []
  },
  {
   "cell_type": "code",
   "execution_count": null,
   "id": "286e5306",
   "metadata": {},
   "outputs": [],
   "source": []
  },
  {
   "cell_type": "code",
   "execution_count": null,
   "id": "514e7445",
   "metadata": {},
   "outputs": [],
   "source": []
  },
  {
   "cell_type": "code",
   "execution_count": null,
   "id": "cd4cd0eb",
   "metadata": {},
   "outputs": [],
   "source": []
  },
  {
   "cell_type": "code",
   "execution_count": null,
   "id": "7bb0e40d",
   "metadata": {},
   "outputs": [],
   "source": []
  },
  {
   "cell_type": "code",
   "execution_count": null,
   "id": "eec15f0d",
   "metadata": {},
   "outputs": [],
   "source": []
  },
  {
   "cell_type": "code",
   "execution_count": null,
   "id": "8474f601",
   "metadata": {},
   "outputs": [],
   "source": []
  }
 ],
 "metadata": {
  "kernelspec": {
   "display_name": "Python 3",
   "language": "python",
   "name": "python3"
  },
  "language_info": {
   "codemirror_mode": {
    "name": "ipython",
    "version": 3
   },
   "file_extension": ".py",
   "mimetype": "text/x-python",
   "name": "python",
   "nbconvert_exporter": "python",
   "pygments_lexer": "ipython3",
   "version": "3.8.8"
  }
 },
 "nbformat": 4,
 "nbformat_minor": 5
}
